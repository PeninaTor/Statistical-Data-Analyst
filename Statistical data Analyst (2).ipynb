{
 "cells": [
  {
   "cell_type": "markdown",
   "id": "256fb17a",
   "metadata": {},
   "source": [
    "# Statistical data analyst"
   ]
  },
  {
   "cell_type": "markdown",
   "id": "f404d257",
   "metadata": {},
   "source": [
    "Megaline is telecom operator, they ask us to study customer behavior, time they spend in calls, ho many messages they used and how much they are using the Internet per month. Then analyse it with the plans they have in order to know wich plan give the companie the most revenue."
   ]
  },
  {
   "cell_type": "markdown",
   "id": "4e98f3fa",
   "metadata": {},
   "source": [
    "# 1. Open the data"
   ]
  },
  {
   "cell_type": "code",
   "execution_count": 1,
   "id": "fc7ad5dc",
   "metadata": {
    "scrolled": true
   },
   "outputs": [
    {
     "name": "stdout",
     "output_type": "stream",
     "text": [
      "Defaulting to user installation because normal site-packages is not writeable\n",
      "Requirement already satisfied: plotly in /opt/conda/lib/python3.7/site-packages (4.1.0)\n",
      "Requirement already satisfied: retrying>=1.3.3 in /opt/conda/lib/python3.7/site-packages (from plotly) (1.3.3)\n",
      "Requirement already satisfied: six in /opt/conda/lib/python3.7/site-packages (from plotly) (1.15.0)\n",
      "Note: you may need to restart the kernel to use updated packages.\n"
     ]
    }
   ],
   "source": [
    "pip install plotly"
   ]
  },
  {
   "cell_type": "code",
   "execution_count": 2,
   "id": "4ff9e142",
   "metadata": {},
   "outputs": [],
   "source": [
    "#Importing the libraries and exploring the data\n",
    "import pandas   as pd\n",
    "import numpy    as np\n",
    "import matplotlib.pyplot as plt\n",
    "import scipy.stats as stats\n",
    "import datetime as dt\n",
    "import seaborn as sns\n",
    "import math\n",
    "from functools import reduce\n",
    "from scipy import stats"
   ]
  },
  {
   "cell_type": "code",
   "execution_count": 3,
   "id": "ec37f61b",
   "metadata": {},
   "outputs": [
    {
     "data": {
      "text/html": [
       "<div>\n",
       "<style scoped>\n",
       "    .dataframe tbody tr th:only-of-type {\n",
       "        vertical-align: middle;\n",
       "    }\n",
       "\n",
       "    .dataframe tbody tr th {\n",
       "        vertical-align: top;\n",
       "    }\n",
       "\n",
       "    .dataframe thead th {\n",
       "        text-align: right;\n",
       "    }\n",
       "</style>\n",
       "<table border=\"1\" class=\"dataframe\">\n",
       "  <thead>\n",
       "    <tr style=\"text-align: right;\">\n",
       "      <th></th>\n",
       "      <th>id</th>\n",
       "      <th>user_id</th>\n",
       "      <th>call_date</th>\n",
       "      <th>duration</th>\n",
       "    </tr>\n",
       "  </thead>\n",
       "  <tbody>\n",
       "    <tr>\n",
       "      <td>0</td>\n",
       "      <td>1000_93</td>\n",
       "      <td>1000</td>\n",
       "      <td>2018-12-27</td>\n",
       "      <td>8.52</td>\n",
       "    </tr>\n",
       "    <tr>\n",
       "      <td>1</td>\n",
       "      <td>1000_145</td>\n",
       "      <td>1000</td>\n",
       "      <td>2018-12-27</td>\n",
       "      <td>13.66</td>\n",
       "    </tr>\n",
       "    <tr>\n",
       "      <td>2</td>\n",
       "      <td>1000_247</td>\n",
       "      <td>1000</td>\n",
       "      <td>2018-12-27</td>\n",
       "      <td>14.48</td>\n",
       "    </tr>\n",
       "    <tr>\n",
       "      <td>3</td>\n",
       "      <td>1000_309</td>\n",
       "      <td>1000</td>\n",
       "      <td>2018-12-28</td>\n",
       "      <td>5.76</td>\n",
       "    </tr>\n",
       "    <tr>\n",
       "      <td>4</td>\n",
       "      <td>1000_380</td>\n",
       "      <td>1000</td>\n",
       "      <td>2018-12-30</td>\n",
       "      <td>4.22</td>\n",
       "    </tr>\n",
       "  </tbody>\n",
       "</table>\n",
       "</div>"
      ],
      "text/plain": [
       "         id  user_id   call_date  duration\n",
       "0   1000_93     1000  2018-12-27      8.52\n",
       "1  1000_145     1000  2018-12-27     13.66\n",
       "2  1000_247     1000  2018-12-27     14.48\n",
       "3  1000_309     1000  2018-12-28      5.76\n",
       "4  1000_380     1000  2018-12-30      4.22"
      ]
     },
     "execution_count": 3,
     "metadata": {},
     "output_type": "execute_result"
    }
   ],
   "source": [
    "data_calls = pd.read_csv('/datasets/megaline_calls.csv')\n",
    "data_calls.head()"
   ]
  },
  {
   "cell_type": "code",
   "execution_count": 4,
   "id": "cc2a53ff",
   "metadata": {},
   "outputs": [
    {
     "name": "stdout",
     "output_type": "stream",
     "text": [
      "<class 'pandas.core.frame.DataFrame'>\n",
      "RangeIndex: 137735 entries, 0 to 137734\n",
      "Data columns (total 4 columns):\n",
      "id           137735 non-null object\n",
      "user_id      137735 non-null int64\n",
      "call_date    137735 non-null object\n",
      "duration     137735 non-null float64\n",
      "dtypes: float64(1), int64(1), object(2)\n",
      "memory usage: 4.2+ MB\n"
     ]
    }
   ],
   "source": [
    "data_calls.info()"
   ]
  },
  {
   "cell_type": "code",
   "execution_count": 5,
   "id": "c17369ea",
   "metadata": {},
   "outputs": [
    {
     "name": "stdout",
     "output_type": "stream",
     "text": [
      "<class 'pandas.core.frame.DataFrame'>\n",
      "RangeIndex: 137735 entries, 0 to 137734\n",
      "Data columns (total 4 columns):\n",
      "id           137735 non-null object\n",
      "user_id      137735 non-null int64\n",
      "call_date    137735 non-null datetime64[ns]\n",
      "duration     137735 non-null int64\n",
      "dtypes: datetime64[ns](1), int64(2), object(1)\n",
      "memory usage: 4.2+ MB\n"
     ]
    }
   ],
   "source": [
    "#converting the data to necessary types\n",
    "data_calls['call_date'] = pd.to_datetime(data_calls['call_date'])\n",
    "data_calls['duration'] = [math.ceil(number) for number in data_calls['duration']]\n",
    "data_calls['duration'] = data_calls['duration'].astype(int)\n",
    "data_calls.info()"
   ]
  },
  {
   "cell_type": "code",
   "execution_count": 6,
   "id": "dc2283d8",
   "metadata": {},
   "outputs": [
    {
     "data": {
      "text/html": [
       "<div>\n",
       "<style scoped>\n",
       "    .dataframe tbody tr th:only-of-type {\n",
       "        vertical-align: middle;\n",
       "    }\n",
       "\n",
       "    .dataframe tbody tr th {\n",
       "        vertical-align: top;\n",
       "    }\n",
       "\n",
       "    .dataframe thead th {\n",
       "        text-align: right;\n",
       "    }\n",
       "</style>\n",
       "<table border=\"1\" class=\"dataframe\">\n",
       "  <thead>\n",
       "    <tr style=\"text-align: right;\">\n",
       "      <th></th>\n",
       "      <th>id</th>\n",
       "      <th>user_id</th>\n",
       "      <th>session_date</th>\n",
       "      <th>mb_used</th>\n",
       "    </tr>\n",
       "  </thead>\n",
       "  <tbody>\n",
       "    <tr>\n",
       "      <td>0</td>\n",
       "      <td>1000_13</td>\n",
       "      <td>1000</td>\n",
       "      <td>2018-12-29</td>\n",
       "      <td>89.86</td>\n",
       "    </tr>\n",
       "    <tr>\n",
       "      <td>1</td>\n",
       "      <td>1000_204</td>\n",
       "      <td>1000</td>\n",
       "      <td>2018-12-31</td>\n",
       "      <td>0.00</td>\n",
       "    </tr>\n",
       "    <tr>\n",
       "      <td>2</td>\n",
       "      <td>1000_379</td>\n",
       "      <td>1000</td>\n",
       "      <td>2018-12-28</td>\n",
       "      <td>660.40</td>\n",
       "    </tr>\n",
       "    <tr>\n",
       "      <td>3</td>\n",
       "      <td>1000_413</td>\n",
       "      <td>1000</td>\n",
       "      <td>2018-12-26</td>\n",
       "      <td>270.99</td>\n",
       "    </tr>\n",
       "    <tr>\n",
       "      <td>4</td>\n",
       "      <td>1000_442</td>\n",
       "      <td>1000</td>\n",
       "      <td>2018-12-27</td>\n",
       "      <td>880.22</td>\n",
       "    </tr>\n",
       "  </tbody>\n",
       "</table>\n",
       "</div>"
      ],
      "text/plain": [
       "         id  user_id session_date  mb_used\n",
       "0   1000_13     1000   2018-12-29    89.86\n",
       "1  1000_204     1000   2018-12-31     0.00\n",
       "2  1000_379     1000   2018-12-28   660.40\n",
       "3  1000_413     1000   2018-12-26   270.99\n",
       "4  1000_442     1000   2018-12-27   880.22"
      ]
     },
     "execution_count": 6,
     "metadata": {},
     "output_type": "execute_result"
    }
   ],
   "source": [
    "data_internet = pd.read_csv('/datasets/megaline_internet.csv')\n",
    "data_internet.head()"
   ]
  },
  {
   "cell_type": "code",
   "execution_count": 7,
   "id": "d0359aba",
   "metadata": {},
   "outputs": [
    {
     "name": "stdout",
     "output_type": "stream",
     "text": [
      "<class 'pandas.core.frame.DataFrame'>\n",
      "RangeIndex: 104825 entries, 0 to 104824\n",
      "Data columns (total 4 columns):\n",
      "id              104825 non-null object\n",
      "user_id         104825 non-null int64\n",
      "session_date    104825 non-null object\n",
      "mb_used         104825 non-null float64\n",
      "dtypes: float64(1), int64(1), object(2)\n",
      "memory usage: 3.2+ MB\n"
     ]
    }
   ],
   "source": [
    "data_internet.info()"
   ]
  },
  {
   "cell_type": "code",
   "execution_count": 8,
   "id": "4c654676",
   "metadata": {},
   "outputs": [
    {
     "name": "stdout",
     "output_type": "stream",
     "text": [
      "<class 'pandas.core.frame.DataFrame'>\n",
      "RangeIndex: 104825 entries, 0 to 104824\n",
      "Data columns (total 4 columns):\n",
      "id              104825 non-null object\n",
      "user_id         104825 non-null int64\n",
      "session_date    104825 non-null datetime64[ns]\n",
      "mb_used         104825 non-null float64\n",
      "dtypes: datetime64[ns](1), float64(1), int64(1), object(1)\n",
      "memory usage: 3.2+ MB\n"
     ]
    }
   ],
   "source": [
    "data_internet['session_date'] = pd.to_datetime(data_internet['session_date'])\n",
    "data_internet.info()"
   ]
  },
  {
   "cell_type": "code",
   "execution_count": 9,
   "id": "5a1326fb",
   "metadata": {},
   "outputs": [
    {
     "data": {
      "text/html": [
       "<div>\n",
       "<style scoped>\n",
       "    .dataframe tbody tr th:only-of-type {\n",
       "        vertical-align: middle;\n",
       "    }\n",
       "\n",
       "    .dataframe tbody tr th {\n",
       "        vertical-align: top;\n",
       "    }\n",
       "\n",
       "    .dataframe thead th {\n",
       "        text-align: right;\n",
       "    }\n",
       "</style>\n",
       "<table border=\"1\" class=\"dataframe\">\n",
       "  <thead>\n",
       "    <tr style=\"text-align: right;\">\n",
       "      <th></th>\n",
       "      <th>id</th>\n",
       "      <th>user_id</th>\n",
       "      <th>message_date</th>\n",
       "    </tr>\n",
       "  </thead>\n",
       "  <tbody>\n",
       "    <tr>\n",
       "      <td>0</td>\n",
       "      <td>1000_125</td>\n",
       "      <td>1000</td>\n",
       "      <td>2018-12-27</td>\n",
       "    </tr>\n",
       "    <tr>\n",
       "      <td>1</td>\n",
       "      <td>1000_160</td>\n",
       "      <td>1000</td>\n",
       "      <td>2018-12-31</td>\n",
       "    </tr>\n",
       "    <tr>\n",
       "      <td>2</td>\n",
       "      <td>1000_223</td>\n",
       "      <td>1000</td>\n",
       "      <td>2018-12-31</td>\n",
       "    </tr>\n",
       "    <tr>\n",
       "      <td>3</td>\n",
       "      <td>1000_251</td>\n",
       "      <td>1000</td>\n",
       "      <td>2018-12-27</td>\n",
       "    </tr>\n",
       "    <tr>\n",
       "      <td>4</td>\n",
       "      <td>1000_255</td>\n",
       "      <td>1000</td>\n",
       "      <td>2018-12-26</td>\n",
       "    </tr>\n",
       "  </tbody>\n",
       "</table>\n",
       "</div>"
      ],
      "text/plain": [
       "         id  user_id message_date\n",
       "0  1000_125     1000   2018-12-27\n",
       "1  1000_160     1000   2018-12-31\n",
       "2  1000_223     1000   2018-12-31\n",
       "3  1000_251     1000   2018-12-27\n",
       "4  1000_255     1000   2018-12-26"
      ]
     },
     "execution_count": 9,
     "metadata": {},
     "output_type": "execute_result"
    }
   ],
   "source": [
    "data_messages = pd.read_csv('/datasets/megaline_messages.csv')\n",
    "data_messages.head()"
   ]
  },
  {
   "cell_type": "code",
   "execution_count": 10,
   "id": "64aa605b",
   "metadata": {},
   "outputs": [
    {
     "name": "stdout",
     "output_type": "stream",
     "text": [
      "<class 'pandas.core.frame.DataFrame'>\n",
      "RangeIndex: 76051 entries, 0 to 76050\n",
      "Data columns (total 3 columns):\n",
      "id              76051 non-null object\n",
      "user_id         76051 non-null int64\n",
      "message_date    76051 non-null object\n",
      "dtypes: int64(1), object(2)\n",
      "memory usage: 1.7+ MB\n"
     ]
    }
   ],
   "source": [
    "data_messages.info()"
   ]
  },
  {
   "cell_type": "code",
   "execution_count": 11,
   "id": "069d6f8e",
   "metadata": {},
   "outputs": [
    {
     "name": "stdout",
     "output_type": "stream",
     "text": [
      "<class 'pandas.core.frame.DataFrame'>\n",
      "RangeIndex: 76051 entries, 0 to 76050\n",
      "Data columns (total 3 columns):\n",
      "id              76051 non-null object\n",
      "user_id         76051 non-null int64\n",
      "message_date    76051 non-null datetime64[ns]\n",
      "dtypes: datetime64[ns](1), int64(1), object(1)\n",
      "memory usage: 1.7+ MB\n"
     ]
    }
   ],
   "source": [
    "data_messages['message_date'] = pd.to_datetime(data_messages['message_date'])\n",
    "data_messages.info()"
   ]
  },
  {
   "cell_type": "code",
   "execution_count": 12,
   "id": "92c790ed",
   "metadata": {},
   "outputs": [
    {
     "data": {
      "text/html": [
       "<div>\n",
       "<style scoped>\n",
       "    .dataframe tbody tr th:only-of-type {\n",
       "        vertical-align: middle;\n",
       "    }\n",
       "\n",
       "    .dataframe tbody tr th {\n",
       "        vertical-align: top;\n",
       "    }\n",
       "\n",
       "    .dataframe thead th {\n",
       "        text-align: right;\n",
       "    }\n",
       "</style>\n",
       "<table border=\"1\" class=\"dataframe\">\n",
       "  <thead>\n",
       "    <tr style=\"text-align: right;\">\n",
       "      <th></th>\n",
       "      <th>messages_included</th>\n",
       "      <th>mb_per_month_included</th>\n",
       "      <th>minutes_included</th>\n",
       "      <th>usd_monthly_pay</th>\n",
       "      <th>usd_per_gb</th>\n",
       "      <th>usd_per_message</th>\n",
       "      <th>usd_per_minute</th>\n",
       "      <th>plan_name</th>\n",
       "    </tr>\n",
       "  </thead>\n",
       "  <tbody>\n",
       "    <tr>\n",
       "      <td>0</td>\n",
       "      <td>50</td>\n",
       "      <td>15360</td>\n",
       "      <td>500</td>\n",
       "      <td>20</td>\n",
       "      <td>10</td>\n",
       "      <td>0.03</td>\n",
       "      <td>0.03</td>\n",
       "      <td>surf</td>\n",
       "    </tr>\n",
       "    <tr>\n",
       "      <td>1</td>\n",
       "      <td>1000</td>\n",
       "      <td>30720</td>\n",
       "      <td>3000</td>\n",
       "      <td>70</td>\n",
       "      <td>7</td>\n",
       "      <td>0.01</td>\n",
       "      <td>0.01</td>\n",
       "      <td>ultimate</td>\n",
       "    </tr>\n",
       "  </tbody>\n",
       "</table>\n",
       "</div>"
      ],
      "text/plain": [
       "   messages_included  mb_per_month_included  minutes_included  \\\n",
       "0                 50                  15360               500   \n",
       "1               1000                  30720              3000   \n",
       "\n",
       "   usd_monthly_pay  usd_per_gb  usd_per_message  usd_per_minute plan_name  \n",
       "0               20          10             0.03            0.03      surf  \n",
       "1               70           7             0.01            0.01  ultimate  "
      ]
     },
     "execution_count": 12,
     "metadata": {},
     "output_type": "execute_result"
    }
   ],
   "source": [
    "data_plans = pd.read_csv('/datasets/megaline_plans.csv')\n",
    "data_plans.head()"
   ]
  },
  {
   "cell_type": "code",
   "execution_count": 13,
   "id": "4967ddbb",
   "metadata": {},
   "outputs": [
    {
     "data": {
      "text/html": [
       "<div>\n",
       "<style scoped>\n",
       "    .dataframe tbody tr th:only-of-type {\n",
       "        vertical-align: middle;\n",
       "    }\n",
       "\n",
       "    .dataframe tbody tr th {\n",
       "        vertical-align: top;\n",
       "    }\n",
       "\n",
       "    .dataframe thead th {\n",
       "        text-align: right;\n",
       "    }\n",
       "</style>\n",
       "<table border=\"1\" class=\"dataframe\">\n",
       "  <thead>\n",
       "    <tr style=\"text-align: right;\">\n",
       "      <th></th>\n",
       "      <th>user_id</th>\n",
       "      <th>first_name</th>\n",
       "      <th>last_name</th>\n",
       "      <th>age</th>\n",
       "      <th>city</th>\n",
       "      <th>reg_date</th>\n",
       "      <th>plan</th>\n",
       "      <th>churn_date</th>\n",
       "    </tr>\n",
       "  </thead>\n",
       "  <tbody>\n",
       "    <tr>\n",
       "      <td>0</td>\n",
       "      <td>1000</td>\n",
       "      <td>Anamaria</td>\n",
       "      <td>Bauer</td>\n",
       "      <td>45</td>\n",
       "      <td>Atlanta-Sandy Springs-Roswell, GA MSA</td>\n",
       "      <td>2018-12-24</td>\n",
       "      <td>ultimate</td>\n",
       "      <td>NaN</td>\n",
       "    </tr>\n",
       "    <tr>\n",
       "      <td>1</td>\n",
       "      <td>1001</td>\n",
       "      <td>Mickey</td>\n",
       "      <td>Wilkerson</td>\n",
       "      <td>28</td>\n",
       "      <td>Seattle-Tacoma-Bellevue, WA MSA</td>\n",
       "      <td>2018-08-13</td>\n",
       "      <td>surf</td>\n",
       "      <td>NaN</td>\n",
       "    </tr>\n",
       "    <tr>\n",
       "      <td>2</td>\n",
       "      <td>1002</td>\n",
       "      <td>Carlee</td>\n",
       "      <td>Hoffman</td>\n",
       "      <td>36</td>\n",
       "      <td>Las Vegas-Henderson-Paradise, NV MSA</td>\n",
       "      <td>2018-10-21</td>\n",
       "      <td>surf</td>\n",
       "      <td>NaN</td>\n",
       "    </tr>\n",
       "    <tr>\n",
       "      <td>3</td>\n",
       "      <td>1003</td>\n",
       "      <td>Reynaldo</td>\n",
       "      <td>Jenkins</td>\n",
       "      <td>52</td>\n",
       "      <td>Tulsa, OK MSA</td>\n",
       "      <td>2018-01-28</td>\n",
       "      <td>surf</td>\n",
       "      <td>NaN</td>\n",
       "    </tr>\n",
       "    <tr>\n",
       "      <td>4</td>\n",
       "      <td>1004</td>\n",
       "      <td>Leonila</td>\n",
       "      <td>Thompson</td>\n",
       "      <td>40</td>\n",
       "      <td>Seattle-Tacoma-Bellevue, WA MSA</td>\n",
       "      <td>2018-05-23</td>\n",
       "      <td>surf</td>\n",
       "      <td>NaN</td>\n",
       "    </tr>\n",
       "  </tbody>\n",
       "</table>\n",
       "</div>"
      ],
      "text/plain": [
       "   user_id first_name  last_name  age                                   city  \\\n",
       "0     1000   Anamaria      Bauer   45  Atlanta-Sandy Springs-Roswell, GA MSA   \n",
       "1     1001     Mickey  Wilkerson   28        Seattle-Tacoma-Bellevue, WA MSA   \n",
       "2     1002     Carlee    Hoffman   36   Las Vegas-Henderson-Paradise, NV MSA   \n",
       "3     1003   Reynaldo    Jenkins   52                          Tulsa, OK MSA   \n",
       "4     1004    Leonila   Thompson   40        Seattle-Tacoma-Bellevue, WA MSA   \n",
       "\n",
       "     reg_date      plan churn_date  \n",
       "0  2018-12-24  ultimate        NaN  \n",
       "1  2018-08-13      surf        NaN  \n",
       "2  2018-10-21      surf        NaN  \n",
       "3  2018-01-28      surf        NaN  \n",
       "4  2018-05-23      surf        NaN  "
      ]
     },
     "execution_count": 13,
     "metadata": {},
     "output_type": "execute_result"
    }
   ],
   "source": [
    "data_users = pd.read_csv('/datasets/megaline_users.csv')\n",
    "data_users.head()"
   ]
  },
  {
   "cell_type": "code",
   "execution_count": 14,
   "id": "62e020f6",
   "metadata": {},
   "outputs": [
    {
     "name": "stdout",
     "output_type": "stream",
     "text": [
      "<class 'pandas.core.frame.DataFrame'>\n",
      "RangeIndex: 500 entries, 0 to 499\n",
      "Data columns (total 8 columns):\n",
      "user_id       500 non-null int64\n",
      "first_name    500 non-null object\n",
      "last_name     500 non-null object\n",
      "age           500 non-null int64\n",
      "city          500 non-null object\n",
      "reg_date      500 non-null object\n",
      "plan          500 non-null object\n",
      "churn_date    34 non-null object\n",
      "dtypes: int64(2), object(6)\n",
      "memory usage: 31.4+ KB\n"
     ]
    }
   ],
   "source": [
    "data_users.info()"
   ]
  },
  {
   "cell_type": "markdown",
   "id": "3c8a20ad",
   "metadata": {},
   "source": [
    "In this part I opened the data and used info() method to see what kind of data I have. I changed the type of data for some columns, but when I will progress on my project I may changed also other columns."
   ]
  },
  {
   "cell_type": "markdown",
   "id": "52c3e70e",
   "metadata": {},
   "source": [
    "# 2. Preparing the data "
   ]
  },
  {
   "cell_type": "code",
   "execution_count": 15,
   "id": "75256d42",
   "metadata": {},
   "outputs": [
    {
     "name": "stdout",
     "output_type": "stream",
     "text": [
      "min id                      1000_145\n",
      "user_id                     1000\n",
      "call_date    2018-01-15 00:00:00\n",
      "duration                       0\n",
      "dtype: object\n",
      "max id                       1499_99\n",
      "user_id                     1499\n",
      "call_date    2018-12-31 00:00:00\n",
      "duration                      38\n",
      "dtype: object\n"
     ]
    }
   ],
   "source": [
    "#checking all the data is in one year before adding a column for month.\n",
    "print('min', data_calls.min())\n",
    "print('max', data_calls.max())"
   ]
  },
  {
   "cell_type": "code",
   "execution_count": 16,
   "id": "4ffe7190",
   "metadata": {},
   "outputs": [
    {
     "data": {
      "text/html": [
       "<div>\n",
       "<style scoped>\n",
       "    .dataframe tbody tr th:only-of-type {\n",
       "        vertical-align: middle;\n",
       "    }\n",
       "\n",
       "    .dataframe tbody tr th {\n",
       "        vertical-align: top;\n",
       "    }\n",
       "\n",
       "    .dataframe thead th {\n",
       "        text-align: right;\n",
       "    }\n",
       "</style>\n",
       "<table border=\"1\" class=\"dataframe\">\n",
       "  <thead>\n",
       "    <tr style=\"text-align: right;\">\n",
       "      <th></th>\n",
       "      <th>id</th>\n",
       "      <th>user_id</th>\n",
       "      <th>call_date</th>\n",
       "      <th>duration</th>\n",
       "      <th>month</th>\n",
       "    </tr>\n",
       "  </thead>\n",
       "  <tbody>\n",
       "    <tr>\n",
       "      <td>0</td>\n",
       "      <td>1000_93</td>\n",
       "      <td>1000</td>\n",
       "      <td>2018-12-27</td>\n",
       "      <td>9</td>\n",
       "      <td>12</td>\n",
       "    </tr>\n",
       "    <tr>\n",
       "      <td>1</td>\n",
       "      <td>1000_145</td>\n",
       "      <td>1000</td>\n",
       "      <td>2018-12-27</td>\n",
       "      <td>14</td>\n",
       "      <td>12</td>\n",
       "    </tr>\n",
       "    <tr>\n",
       "      <td>2</td>\n",
       "      <td>1000_247</td>\n",
       "      <td>1000</td>\n",
       "      <td>2018-12-27</td>\n",
       "      <td>15</td>\n",
       "      <td>12</td>\n",
       "    </tr>\n",
       "  </tbody>\n",
       "</table>\n",
       "</div>"
      ],
      "text/plain": [
       "         id  user_id  call_date  duration  month\n",
       "0   1000_93     1000 2018-12-27         9     12\n",
       "1  1000_145     1000 2018-12-27        14     12\n",
       "2  1000_247     1000 2018-12-27        15     12"
      ]
     },
     "execution_count": 16,
     "metadata": {},
     "output_type": "execute_result"
    }
   ],
   "source": [
    "#add a column for month\n",
    "data_calls['month']= pd.DatetimeIndex(data_calls['call_date']).month\n",
    "data_calls.head(3)"
   ]
  },
  {
   "cell_type": "code",
   "execution_count": 17,
   "id": "4b37fc5c",
   "metadata": {},
   "outputs": [
    {
     "data": {
      "text/plain": [
       "user_id  month\n",
       "1000     12       16\n",
       "1001     8        27\n",
       "         9        49\n",
       "Name: month, dtype: int64"
      ]
     },
     "metadata": {},
     "output_type": "display_data"
    }
   ],
   "source": [
    "#to calculate the minutes spent by user in a specific month\n",
    "monthly_calls = data_calls.groupby(['user_id','month']).month.count()\n",
    "\n",
    "display(monthly_calls.head(3))"
   ]
  },
  {
   "cell_type": "code",
   "execution_count": 18,
   "id": "3946923b",
   "metadata": {},
   "outputs": [
    {
     "data": {
      "text/html": [
       "<div>\n",
       "<style scoped>\n",
       "    .dataframe tbody tr th:only-of-type {\n",
       "        vertical-align: middle;\n",
       "    }\n",
       "\n",
       "    .dataframe tbody tr th {\n",
       "        vertical-align: top;\n",
       "    }\n",
       "\n",
       "    .dataframe thead th {\n",
       "        text-align: right;\n",
       "    }\n",
       "</style>\n",
       "<table border=\"1\" class=\"dataframe\">\n",
       "  <thead>\n",
       "    <tr style=\"text-align: right;\">\n",
       "      <th></th>\n",
       "      <th></th>\n",
       "      <th>duration</th>\n",
       "    </tr>\n",
       "    <tr>\n",
       "      <th>user_id</th>\n",
       "      <th>month</th>\n",
       "      <th></th>\n",
       "    </tr>\n",
       "  </thead>\n",
       "  <tbody>\n",
       "    <tr>\n",
       "      <td>1000</td>\n",
       "      <td>12</td>\n",
       "      <td>124</td>\n",
       "    </tr>\n",
       "    <tr>\n",
       "      <td rowspan=\"2\" valign=\"top\">1001</td>\n",
       "      <td>8</td>\n",
       "      <td>182</td>\n",
       "    </tr>\n",
       "    <tr>\n",
       "      <td>9</td>\n",
       "      <td>315</td>\n",
       "    </tr>\n",
       "  </tbody>\n",
       "</table>\n",
       "</div>"
      ],
      "text/plain": [
       "               duration\n",
       "user_id month          \n",
       "1000    12          124\n",
       "1001    8           182\n",
       "        9           315"
      ]
     },
     "execution_count": 18,
     "metadata": {},
     "output_type": "execute_result"
    }
   ],
   "source": [
    "#minutes per month per user\n",
    "calls_ids_length = data_calls.pivot_table(index = ['user_id', 'month'], values = 'duration', aggfunc='sum')\n",
    "calls_ids_length.head(3)"
   ]
  },
  {
   "cell_type": "code",
   "execution_count": 19,
   "id": "9c3b0509",
   "metadata": {},
   "outputs": [
    {
     "name": "stdout",
     "output_type": "stream",
     "text": [
      "min id                         1000_125\n",
      "user_id                        1000\n",
      "message_date    2018-01-15 00:00:00\n",
      "dtype: object\n",
      "max id                          1497_68\n",
      "user_id                        1497\n",
      "message_date    2018-12-31 00:00:00\n",
      "dtype: object\n"
     ]
    }
   ],
   "source": [
    "#checking all the data is in one year\n",
    "print('min', data_messages.min())\n",
    "print('max', data_messages.max())"
   ]
  },
  {
   "cell_type": "code",
   "execution_count": 20,
   "id": "1c237366",
   "metadata": {},
   "outputs": [
    {
     "data": {
      "text/html": [
       "<div>\n",
       "<style scoped>\n",
       "    .dataframe tbody tr th:only-of-type {\n",
       "        vertical-align: middle;\n",
       "    }\n",
       "\n",
       "    .dataframe tbody tr th {\n",
       "        vertical-align: top;\n",
       "    }\n",
       "\n",
       "    .dataframe thead th {\n",
       "        text-align: right;\n",
       "    }\n",
       "</style>\n",
       "<table border=\"1\" class=\"dataframe\">\n",
       "  <thead>\n",
       "    <tr style=\"text-align: right;\">\n",
       "      <th></th>\n",
       "      <th>id</th>\n",
       "      <th>user_id</th>\n",
       "      <th>message_date</th>\n",
       "      <th>month</th>\n",
       "    </tr>\n",
       "  </thead>\n",
       "  <tbody>\n",
       "    <tr>\n",
       "      <td>0</td>\n",
       "      <td>1000_125</td>\n",
       "      <td>1000</td>\n",
       "      <td>2018-12-27</td>\n",
       "      <td>12</td>\n",
       "    </tr>\n",
       "    <tr>\n",
       "      <td>1</td>\n",
       "      <td>1000_160</td>\n",
       "      <td>1000</td>\n",
       "      <td>2018-12-31</td>\n",
       "      <td>12</td>\n",
       "    </tr>\n",
       "    <tr>\n",
       "      <td>2</td>\n",
       "      <td>1000_223</td>\n",
       "      <td>1000</td>\n",
       "      <td>2018-12-31</td>\n",
       "      <td>12</td>\n",
       "    </tr>\n",
       "  </tbody>\n",
       "</table>\n",
       "</div>"
      ],
      "text/plain": [
       "         id  user_id message_date  month\n",
       "0  1000_125     1000   2018-12-27     12\n",
       "1  1000_160     1000   2018-12-31     12\n",
       "2  1000_223     1000   2018-12-31     12"
      ]
     },
     "execution_count": 20,
     "metadata": {},
     "output_type": "execute_result"
    }
   ],
   "source": [
    "#add a column for month\n",
    "data_messages['month'] = pd.DatetimeIndex(data_messages['message_date']).month\n",
    "data_messages.head(3)"
   ]
  },
  {
   "cell_type": "code",
   "execution_count": 21,
   "id": "7df53627",
   "metadata": {},
   "outputs": [
    {
     "data": {
      "text/plain": [
       "user_id  month\n",
       "1000     12       11\n",
       "1001     8        30\n",
       "         9        44\n",
       "Name: message_date, dtype: int64"
      ]
     },
     "execution_count": 21,
     "metadata": {},
     "output_type": "execute_result"
    }
   ],
   "source": [
    "monthly_messages = data_messages.groupby(['user_id','month']).message_date.count()\n",
    "monthly_messages.head(3)"
   ]
  },
  {
   "cell_type": "code",
   "execution_count": 22,
   "id": "dfcc0da1",
   "metadata": {},
   "outputs": [
    {
     "name": "stdout",
     "output_type": "stream",
     "text": [
      "min id                          1000_13\n",
      "user_id                        1000\n",
      "session_date    2018-01-15 00:00:00\n",
      "mb_used                           0\n",
      "dtype: object\n",
      "max id                          1499_99\n",
      "user_id                        1499\n",
      "session_date    2018-12-31 00:00:00\n",
      "mb_used                     1693.47\n",
      "dtype: object\n"
     ]
    }
   ],
   "source": [
    "#checking all the data is in one year\n",
    "print('min', data_internet.min())\n",
    "print('max', data_internet.max())"
   ]
  },
  {
   "cell_type": "code",
   "execution_count": 23,
   "id": "c4fcf8f1",
   "metadata": {
    "scrolled": true
   },
   "outputs": [
    {
     "data": {
      "text/html": [
       "<div>\n",
       "<style scoped>\n",
       "    .dataframe tbody tr th:only-of-type {\n",
       "        vertical-align: middle;\n",
       "    }\n",
       "\n",
       "    .dataframe tbody tr th {\n",
       "        vertical-align: top;\n",
       "    }\n",
       "\n",
       "    .dataframe thead th {\n",
       "        text-align: right;\n",
       "    }\n",
       "</style>\n",
       "<table border=\"1\" class=\"dataframe\">\n",
       "  <thead>\n",
       "    <tr style=\"text-align: right;\">\n",
       "      <th></th>\n",
       "      <th></th>\n",
       "      <th>mb_used</th>\n",
       "      <th>gb_used</th>\n",
       "    </tr>\n",
       "    <tr>\n",
       "      <th>user_id</th>\n",
       "      <th>month</th>\n",
       "      <th></th>\n",
       "      <th></th>\n",
       "    </tr>\n",
       "  </thead>\n",
       "  <tbody>\n",
       "    <tr>\n",
       "      <td>1000</td>\n",
       "      <td>12</td>\n",
       "      <td>1901.47</td>\n",
       "      <td>2</td>\n",
       "    </tr>\n",
       "    <tr>\n",
       "      <td rowspan=\"4\" valign=\"top\">1001</td>\n",
       "      <td>8</td>\n",
       "      <td>6919.15</td>\n",
       "      <td>8</td>\n",
       "    </tr>\n",
       "    <tr>\n",
       "      <td>9</td>\n",
       "      <td>13314.82</td>\n",
       "      <td>14</td>\n",
       "    </tr>\n",
       "    <tr>\n",
       "      <td>10</td>\n",
       "      <td>22330.49</td>\n",
       "      <td>23</td>\n",
       "    </tr>\n",
       "    <tr>\n",
       "      <td>11</td>\n",
       "      <td>18504.30</td>\n",
       "      <td>19</td>\n",
       "    </tr>\n",
       "  </tbody>\n",
       "</table>\n",
       "</div>"
      ],
      "text/plain": [
       "                mb_used  gb_used\n",
       "user_id month                   \n",
       "1000    12      1901.47        2\n",
       "1001    8       6919.15        8\n",
       "        9      13314.82       14\n",
       "        10     22330.49       23\n",
       "        11     18504.30       19"
      ]
     },
     "execution_count": 23,
     "metadata": {},
     "output_type": "execute_result"
    }
   ],
   "source": [
    "mb_to_gb = 0.001024\n",
    "data_internet['session_date'] = pd.to_datetime(data_internet['session_date'])\n",
    "data_internet['month'] = data_internet['session_date'].dt.month\n",
    "internet_ids_mb = data_internet.pivot_table(index = ['user_id', 'month'], values = 'mb_used', aggfunc = 'sum')\n",
    "internet_ids_mb['gb_used'] = internet_ids_mb['mb_used'] * mb_to_gb\n",
    "internet_ids_mb['gb_used'] = [math.ceil(number) for number in internet_ids_mb['gb_used']]\n",
    "internet_ids_mb['gb_used'] = internet_ids_mb['gb_used'].astype(int)\n",
    "internet_ids_mb.head()"
   ]
  },
  {
   "cell_type": "markdown",
   "id": "54fdfd3b",
   "metadata": {},
   "source": [
    "Now that I check and add column when needed in each Dataframe separetly I will join all the data frames to have all the Data in one clear table."
   ]
  },
  {
   "cell_type": "code",
   "execution_count": 24,
   "id": "73416c08",
   "metadata": {
    "scrolled": true
   },
   "outputs": [
    {
     "data": {
      "text/html": [
       "<div>\n",
       "<style scoped>\n",
       "    .dataframe tbody tr th:only-of-type {\n",
       "        vertical-align: middle;\n",
       "    }\n",
       "\n",
       "    .dataframe tbody tr th {\n",
       "        vertical-align: top;\n",
       "    }\n",
       "\n",
       "    .dataframe thead th {\n",
       "        text-align: right;\n",
       "    }\n",
       "</style>\n",
       "<table border=\"1\" class=\"dataframe\">\n",
       "  <thead>\n",
       "    <tr style=\"text-align: right;\">\n",
       "      <th></th>\n",
       "      <th>user_id</th>\n",
       "      <th>duration</th>\n",
       "      <th>messages</th>\n",
       "      <th>mb_used</th>\n",
       "      <th>gb_used</th>\n",
       "      <th>first_name</th>\n",
       "      <th>last_name</th>\n",
       "      <th>age</th>\n",
       "      <th>city</th>\n",
       "      <th>reg_date</th>\n",
       "      <th>plan</th>\n",
       "      <th>churn_date</th>\n",
       "    </tr>\n",
       "  </thead>\n",
       "  <tbody>\n",
       "    <tr>\n",
       "      <td>0</td>\n",
       "      <td>1000</td>\n",
       "      <td>124.0</td>\n",
       "      <td>11.0</td>\n",
       "      <td>1901.47</td>\n",
       "      <td>2.0</td>\n",
       "      <td>Anamaria</td>\n",
       "      <td>Bauer</td>\n",
       "      <td>45</td>\n",
       "      <td>Atlanta-Sandy Springs-Roswell, GA MSA</td>\n",
       "      <td>2018-12-24</td>\n",
       "      <td>ultimate</td>\n",
       "      <td>0</td>\n",
       "    </tr>\n",
       "    <tr>\n",
       "      <td>1</td>\n",
       "      <td>1001</td>\n",
       "      <td>182.0</td>\n",
       "      <td>30.0</td>\n",
       "      <td>6919.15</td>\n",
       "      <td>8.0</td>\n",
       "      <td>Mickey</td>\n",
       "      <td>Wilkerson</td>\n",
       "      <td>28</td>\n",
       "      <td>Seattle-Tacoma-Bellevue, WA MSA</td>\n",
       "      <td>2018-08-13</td>\n",
       "      <td>surf</td>\n",
       "      <td>0</td>\n",
       "    </tr>\n",
       "    <tr>\n",
       "      <td>2</td>\n",
       "      <td>1001</td>\n",
       "      <td>315.0</td>\n",
       "      <td>44.0</td>\n",
       "      <td>13314.82</td>\n",
       "      <td>14.0</td>\n",
       "      <td>Mickey</td>\n",
       "      <td>Wilkerson</td>\n",
       "      <td>28</td>\n",
       "      <td>Seattle-Tacoma-Bellevue, WA MSA</td>\n",
       "      <td>2018-08-13</td>\n",
       "      <td>surf</td>\n",
       "      <td>0</td>\n",
       "    </tr>\n",
       "    <tr>\n",
       "      <td>3</td>\n",
       "      <td>1001</td>\n",
       "      <td>393.0</td>\n",
       "      <td>53.0</td>\n",
       "      <td>22330.49</td>\n",
       "      <td>23.0</td>\n",
       "      <td>Mickey</td>\n",
       "      <td>Wilkerson</td>\n",
       "      <td>28</td>\n",
       "      <td>Seattle-Tacoma-Bellevue, WA MSA</td>\n",
       "      <td>2018-08-13</td>\n",
       "      <td>surf</td>\n",
       "      <td>0</td>\n",
       "    </tr>\n",
       "    <tr>\n",
       "      <td>4</td>\n",
       "      <td>1001</td>\n",
       "      <td>426.0</td>\n",
       "      <td>36.0</td>\n",
       "      <td>18504.30</td>\n",
       "      <td>19.0</td>\n",
       "      <td>Mickey</td>\n",
       "      <td>Wilkerson</td>\n",
       "      <td>28</td>\n",
       "      <td>Seattle-Tacoma-Bellevue, WA MSA</td>\n",
       "      <td>2018-08-13</td>\n",
       "      <td>surf</td>\n",
       "      <td>0</td>\n",
       "    </tr>\n",
       "    <tr>\n",
       "      <td>...</td>\n",
       "      <td>...</td>\n",
       "      <td>...</td>\n",
       "      <td>...</td>\n",
       "      <td>...</td>\n",
       "      <td>...</td>\n",
       "      <td>...</td>\n",
       "      <td>...</td>\n",
       "      <td>...</td>\n",
       "      <td>...</td>\n",
       "      <td>...</td>\n",
       "      <td>...</td>\n",
       "      <td>...</td>\n",
       "    </tr>\n",
       "    <tr>\n",
       "      <td>2298</td>\n",
       "      <td>1307</td>\n",
       "      <td>0.0</td>\n",
       "      <td>0.0</td>\n",
       "      <td>0.00</td>\n",
       "      <td>0.0</td>\n",
       "      <td>Kristopher</td>\n",
       "      <td>Lang</td>\n",
       "      <td>28</td>\n",
       "      <td>Boston-Cambridge-Newton, MA-NH MSA</td>\n",
       "      <td>2018-12-31</td>\n",
       "      <td>surf</td>\n",
       "      <td>0</td>\n",
       "    </tr>\n",
       "    <tr>\n",
       "      <td>2299</td>\n",
       "      <td>1319</td>\n",
       "      <td>0.0</td>\n",
       "      <td>0.0</td>\n",
       "      <td>0.00</td>\n",
       "      <td>0.0</td>\n",
       "      <td>Eliseo</td>\n",
       "      <td>Carson</td>\n",
       "      <td>21</td>\n",
       "      <td>Colorado Springs, CO MSA</td>\n",
       "      <td>2018-06-17</td>\n",
       "      <td>surf</td>\n",
       "      <td>0</td>\n",
       "    </tr>\n",
       "    <tr>\n",
       "      <td>2300</td>\n",
       "      <td>1378</td>\n",
       "      <td>0.0</td>\n",
       "      <td>0.0</td>\n",
       "      <td>0.00</td>\n",
       "      <td>0.0</td>\n",
       "      <td>Mckinley</td>\n",
       "      <td>Clayton</td>\n",
       "      <td>22</td>\n",
       "      <td>Denver-Aurora-Lakewood, CO MSA</td>\n",
       "      <td>2018-12-17</td>\n",
       "      <td>surf</td>\n",
       "      <td>0</td>\n",
       "    </tr>\n",
       "    <tr>\n",
       "      <td>2301</td>\n",
       "      <td>1463</td>\n",
       "      <td>0.0</td>\n",
       "      <td>0.0</td>\n",
       "      <td>0.00</td>\n",
       "      <td>0.0</td>\n",
       "      <td>Dinorah</td>\n",
       "      <td>Simmons</td>\n",
       "      <td>30</td>\n",
       "      <td>Atlanta-Sandy Springs-Roswell, GA MSA</td>\n",
       "      <td>2018-11-27</td>\n",
       "      <td>ultimate</td>\n",
       "      <td>0</td>\n",
       "    </tr>\n",
       "    <tr>\n",
       "      <td>2302</td>\n",
       "      <td>1473</td>\n",
       "      <td>0.0</td>\n",
       "      <td>0.0</td>\n",
       "      <td>0.00</td>\n",
       "      <td>0.0</td>\n",
       "      <td>Kirk</td>\n",
       "      <td>Velez</td>\n",
       "      <td>61</td>\n",
       "      <td>Louisville/Jefferson County, KY-IN MSA</td>\n",
       "      <td>2018-12-31</td>\n",
       "      <td>surf</td>\n",
       "      <td>0</td>\n",
       "    </tr>\n",
       "  </tbody>\n",
       "</table>\n",
       "<p>2303 rows × 12 columns</p>\n",
       "</div>"
      ],
      "text/plain": [
       "      user_id  duration  messages   mb_used  gb_used  first_name  last_name  \\\n",
       "0        1000     124.0      11.0   1901.47      2.0    Anamaria      Bauer   \n",
       "1        1001     182.0      30.0   6919.15      8.0      Mickey  Wilkerson   \n",
       "2        1001     315.0      44.0  13314.82     14.0      Mickey  Wilkerson   \n",
       "3        1001     393.0      53.0  22330.49     23.0      Mickey  Wilkerson   \n",
       "4        1001     426.0      36.0  18504.30     19.0      Mickey  Wilkerson   \n",
       "...       ...       ...       ...       ...      ...         ...        ...   \n",
       "2298     1307       0.0       0.0      0.00      0.0  Kristopher       Lang   \n",
       "2299     1319       0.0       0.0      0.00      0.0      Eliseo     Carson   \n",
       "2300     1378       0.0       0.0      0.00      0.0    Mckinley    Clayton   \n",
       "2301     1463       0.0       0.0      0.00      0.0     Dinorah    Simmons   \n",
       "2302     1473       0.0       0.0      0.00      0.0        Kirk      Velez   \n",
       "\n",
       "      age                                    city    reg_date      plan  \\\n",
       "0      45   Atlanta-Sandy Springs-Roswell, GA MSA  2018-12-24  ultimate   \n",
       "1      28         Seattle-Tacoma-Bellevue, WA MSA  2018-08-13      surf   \n",
       "2      28         Seattle-Tacoma-Bellevue, WA MSA  2018-08-13      surf   \n",
       "3      28         Seattle-Tacoma-Bellevue, WA MSA  2018-08-13      surf   \n",
       "4      28         Seattle-Tacoma-Bellevue, WA MSA  2018-08-13      surf   \n",
       "...   ...                                     ...         ...       ...   \n",
       "2298   28      Boston-Cambridge-Newton, MA-NH MSA  2018-12-31      surf   \n",
       "2299   21                Colorado Springs, CO MSA  2018-06-17      surf   \n",
       "2300   22          Denver-Aurora-Lakewood, CO MSA  2018-12-17      surf   \n",
       "2301   30   Atlanta-Sandy Springs-Roswell, GA MSA  2018-11-27  ultimate   \n",
       "2302   61  Louisville/Jefferson County, KY-IN MSA  2018-12-31      surf   \n",
       "\n",
       "     churn_date  \n",
       "0             0  \n",
       "1             0  \n",
       "2             0  \n",
       "3             0  \n",
       "4             0  \n",
       "...         ...  \n",
       "2298          0  \n",
       "2299          0  \n",
       "2300          0  \n",
       "2301          0  \n",
       "2302          0  \n",
       "\n",
       "[2303 rows x 12 columns]"
      ]
     },
     "execution_count": 24,
     "metadata": {},
     "output_type": "execute_result"
    }
   ],
   "source": [
    "data_frames = [calls_ids_length, monthly_messages, internet_ids_mb]\n",
    "user_usages = reduce(lambda  left,right: pd.merge(left,right,on=['user_id', 'month'],\n",
    "                                                how='outer'),data_frames)\n",
    "user_usages.rename(columns = {'message_date': 'messages'}, inplace = True)\n",
    "data_frames_1 = [user_usages,data_users]\n",
    "user_usages = reduce(lambda  left,right:pd.merge(left,right,on=['user_id'],\n",
    "                                                how='outer'), data_frames_1)\n",
    "user_usages = user_usages.fillna(value = 0) #0 mean user didn't use this value this month\n",
    "user_usages "
   ]
  },
  {
   "cell_type": "code",
   "execution_count": 25,
   "id": "7cd86425",
   "metadata": {},
   "outputs": [],
   "source": [
    "user_usages['duration'] = user_usages['duration'].astype(int)"
   ]
  },
  {
   "cell_type": "code",
   "execution_count": 26,
   "id": "71f420ca",
   "metadata": {},
   "outputs": [],
   "source": [
    "#Creating a function to see how much each users pays for every month.\n",
    "def cost(row):\n",
    "    duration = row['duration']\n",
    "    messages = row['messages']\n",
    "    gb_used = row['gb_used']\n",
    "    mb_used = row['mb_used']\n",
    "    plan = row['plan']\n",
    "    plan_cost = 0\n",
    "    messages_cost = 0\n",
    "    calls_cost = 0\n",
    "    surf_cost = 0\n",
    "    total_cost = 0\n",
    "    gb_included_ulti = 30\n",
    "    gb_included_surf = 15\n",
    "    \n",
    "    if plan=='ultimate':\n",
    "        plan_cost = data_plans['usd_monthly_pay'].max()\n",
    "        if duration > data_plans['minutes_included'].max():\n",
    "            calls_cost = (duration - data_plans['minutes_included'].max()) * data_plans['usd_per_minute'].min()\n",
    "        if messages > data_plans['messages_included'].max():\n",
    "            messages_cost = (messages - data_plans['messages_included'].max()) * data_plans['usd_per_message'].min()\n",
    "        if mb_used > data_plans['mb_per_month_included'].max():\n",
    "            surf_cost = (gb_used - gb_included_ulti) * data_plans['usd_per_gb'].min()\n",
    "           \n",
    "    elif plan=='surf':\n",
    "        plan_cost = data_plans['usd_monthly_pay'].min()\n",
    "        if duration> data_plans['minutes_included'].min():\n",
    "            calls_cost = (duration - data_plans['minutes_included'].min()) * data_plans['usd_per_minute'].max()\n",
    "        if messages > data_plans['messages_included'].min():\n",
    "            messages_cost = (messages - data_plans['messages_included'].min()) * data_plans['usd_per_message'].max()\n",
    "        if mb_used > data_plans['mb_per_month_included'].min():\n",
    "            surf_cost = (gb_used - gb_included_surf) * data_plans['usd_per_gb'].max()\n",
    "               \n",
    "    total_cost = plan_cost + calls_cost + messages_cost + surf_cost\n",
    "    return total_cost"
   ]
  },
  {
   "cell_type": "code",
   "execution_count": 27,
   "id": "4ab89611",
   "metadata": {},
   "outputs": [],
   "source": [
    "user_usages['total_cost'] = user_usages.apply(cost,axis=1)"
   ]
  },
  {
   "cell_type": "code",
   "execution_count": 28,
   "id": "16cb2df5",
   "metadata": {},
   "outputs": [
    {
     "data": {
      "text/plain": [
       "0             2143\n",
       "2018-11-14      14\n",
       "2018-10-07      10\n",
       "2018-12-31      10\n",
       "2018-09-18       9\n",
       "2018-10-22       9\n",
       "2018-10-13       9\n",
       "2018-11-18       9\n",
       "2018-12-18       8\n",
       "2018-09-07       8\n",
       "2018-09-17       8\n",
       "2018-07-31       8\n",
       "2018-11-30       8\n",
       "2018-11-29       5\n",
       "2018-09-01       5\n",
       "2018-12-10       5\n",
       "2018-12-26       4\n",
       "2018-11-24       4\n",
       "2018-08-16       4\n",
       "2018-12-19       4\n",
       "2018-11-11       3\n",
       "2018-11-21       3\n",
       "2018-12-12       3\n",
       "2018-10-03       2\n",
       "2018-11-16       2\n",
       "2018-08-19       2\n",
       "2018-12-15       1\n",
       "2018-12-30       1\n",
       "2018-12-22       1\n",
       "2018-12-27       1\n",
       "Name: churn_date, dtype: int64"
      ]
     },
     "execution_count": 28,
     "metadata": {},
     "output_type": "execute_result"
    }
   ],
   "source": [
    "#just checking the values for churn date column.\n",
    "user_usages['churn_date'].value_counts()"
   ]
  },
  {
   "cell_type": "code",
   "execution_count": 29,
   "id": "79067ac1",
   "metadata": {},
   "outputs": [
    {
     "name": "stdout",
     "output_type": "stream",
     "text": [
      "[1000 1001 1002 1003 1004 1005 1006 1007 1008 1009 1010 1011 1012 1013\n",
      " 1014 1015 1016 1017 1018 1019 1020 1021 1022 1023 1024 1026 1027 1028\n",
      " 1029 1030 1031 1032 1033 1034 1035 1036 1037 1038 1039 1040 1041 1042\n",
      " 1043 1044 1045 1046 1047 1048 1049 1050 1051 1052 1053 1054 1055 1056\n",
      " 1057 1058 1059 1060 1061 1062 1063 1064 1065 1066 1067 1068 1069 1070\n",
      " 1071 1072 1073 1074 1075 1076 1077 1078 1079 1081 1082 1083 1084 1085\n",
      " 1086 1087 1088 1090 1091 1092 1093 1094 1095 1096 1097 1098 1099 1100\n",
      " 1101 1102 1103 1104 1105 1106 1107 1109 1110 1111 1112 1113 1114 1115\n",
      " 1116 1117 1118 1119 1120 1122 1123 1124 1125 1126 1127 1128 1130 1132\n",
      " 1133 1134 1135 1136 1138 1139 1140 1141 1142 1144 1145 1146 1147 1148\n",
      " 1149 1150 1151 1152 1153 1154 1155 1156 1157 1158 1159 1160 1161 1162\n",
      " 1163 1164 1165 1166 1167 1168 1169 1170 1171 1172 1173 1174 1175 1176\n",
      " 1177 1178 1179 1180 1181 1182 1183 1184 1185 1186 1187 1188 1189 1190\n",
      " 1191 1192 1193 1195 1196 1197 1198 1199 1200 1201 1202 1203 1205 1206\n",
      " 1207 1208 1209 1210 1211 1212 1213 1214 1215 1216 1217 1218 1219 1220\n",
      " 1221 1222 1223 1224 1225 1226 1227 1228 1229 1230 1231 1232 1233 1234\n",
      " 1235 1236 1237 1238 1239 1240 1241 1242 1243 1244 1245 1246 1247 1248\n",
      " 1249 1250 1251 1252 1253 1254 1255 1256 1257 1258 1259 1260 1261 1262\n",
      " 1263 1264 1265 1266 1267 1268 1270 1271 1272 1273 1274 1276 1277 1278\n",
      " 1279 1280 1281 1282 1283 1284 1285 1286 1287 1288 1289 1290 1291 1292\n",
      " 1293 1294 1295 1296 1297 1298 1299 1300 1301 1302 1303 1304 1305 1306\n",
      " 1308 1309 1310 1311 1312 1313 1314 1315 1316 1317 1318 1320 1321 1322\n",
      " 1323 1324 1325 1326 1327 1328 1329 1330 1331 1332 1333 1334 1335 1336\n",
      " 1337 1338 1339 1340 1341 1342 1343 1344 1345 1346 1347 1348 1350 1351\n",
      " 1352 1353 1354 1355 1356 1357 1358 1359 1360 1361 1362 1363 1364 1365\n",
      " 1366 1367 1368 1369 1370 1371 1372 1373 1374 1375 1376 1377 1379 1380\n",
      " 1381 1382 1383 1384 1385 1386 1387 1388 1389 1390 1391 1392 1393 1394\n",
      " 1395 1396 1397 1398 1399 1400 1401 1402 1403 1404 1405 1406 1407 1408\n",
      " 1409 1410 1411 1412 1413 1414 1415 1416 1417 1418 1419 1420 1421 1422\n",
      " 1423 1424 1425 1426 1427 1428 1429 1430 1431 1432 1433 1434 1435 1436\n",
      " 1437 1438 1439 1440 1441 1442 1443 1444 1445 1446 1447 1448 1449 1450\n",
      " 1451 1452 1453 1454 1455 1456 1457 1458 1459 1460 1461 1462 1464 1465\n",
      " 1466 1467 1468 1469 1470 1471 1472 1474 1475 1476 1477 1478 1479 1480\n",
      " 1481 1482 1483 1484 1485 1486 1487 1488 1489 1490 1491 1492 1493 1494\n",
      " 1495 1496 1497 1498 1499 1080 1089 1121 1131 1137 1194 1204 1349 1108\n",
      " 1025 1129 1143 1269 1275 1307 1319 1378 1463 1473]\n",
      "The number of users is: 500\n"
     ]
    }
   ],
   "source": [
    "users_clean = user_usages['user_id'].unique()\n",
    "print(users_clean)\n",
    "print('The number of users is:', len(users_clean))"
   ]
  },
  {
   "cell_type": "markdown",
   "id": "543217e8",
   "metadata": {},
   "source": [
    "In this part I have prepare the Data for analyse. I add a column for month use in call, messages and Surf Dataframe. Then I count the usage per user per month for each of this categories. I convert mb to gb in order to have more clear data. I join all the Dataframe in one clear Dataframe.\n",
    "I continue by creating a function to calculate how much each user pay for every month."
   ]
  },
  {
   "cell_type": "markdown",
   "id": "5274b3ee",
   "metadata": {},
   "source": [
    "# 3. Analyse the Data"
   ]
  },
  {
   "cell_type": "markdown",
   "id": "47e2ec66",
   "metadata": {},
   "source": [
    "In this part I will analyse the customers behavior. I will find the minutes, texts and volume of data each the users of each plan require per month. I will found that by calculate the mean, dispersion, standard deviation and ploting histograms."
   ]
  },
  {
   "cell_type": "code",
   "execution_count": 30,
   "id": "5b31bda7",
   "metadata": {},
   "outputs": [],
   "source": [
    "#Starting by analysing Ultimate plan\n",
    "ultimate_users = user_usages.query('plan == \"ultimate\"')"
   ]
  },
  {
   "cell_type": "code",
   "execution_count": 31,
   "id": "df398826",
   "metadata": {},
   "outputs": [
    {
     "data": {
      "image/png": "[encoded data removed]",
      "text/plain": [
       "<Figure size 432x288 with 1 Axes>"
      ]
     },
     "metadata": {
      "needs_background": "light"
     },
     "output_type": "display_data"
    },
    {
     "name": "stdout",
     "output_type": "stream",
     "text": [
      "Ultimate minutes mean: 428.0718232044199\n",
      "Ultimate minutes variance: 58463.016940874826\n",
      "Ultimate minutes standard deviation: 241.7912672965565\n",
      "Most of the data will be between -297.3019786852496 and 1153.4456250940893\n",
      "\n"
     ]
    }
   ],
   "source": [
    "# Analyse minutes\n",
    "ultimate_minutes_mean = ultimate_users['duration'].mean()\n",
    "ultimate_minutes_variance = np.var(ultimate_users['duration'])\n",
    "ultimate_minutes_sd = np.sqrt(ultimate_minutes_variance)\n",
    "ultimate_users.hist('duration', density=True)\n",
    "plt.xlabel('duration')\n",
    "plt.ylabel('Frecency - Density')\n",
    "plt.show()\n",
    "print('Ultimate minutes mean:', ultimate_minutes_mean)\n",
    "print('Ultimate minutes variance:', ultimate_minutes_variance)\n",
    "print('Ultimate minutes standard deviation:', ultimate_minutes_sd)\n",
    "print('Most of the data will be between', ultimate_minutes_mean - 3 * ultimate_minutes_sd, 'and', ultimate_minutes_mean + 3 * ultimate_minutes_sd )\n",
    "print()\n"
   ]
  },
  {
   "cell_type": "code",
   "execution_count": 32,
   "id": "a328e3bb",
   "metadata": {},
   "outputs": [
    {
     "data": {
      "image/png": "[encoded data removed]",
      "text/plain": [
       "<Figure size 432x288 with 1 Axes>"
      ]
     },
     "metadata": {
      "needs_background": "light"
     },
     "output_type": "display_data"
    },
    {
     "name": "stdout",
     "output_type": "stream",
     "text": [
      "Ultimate messages mean: 37.3439226519337\n",
      "Ultimate messages variance: 1208.15657908794\n",
      "Ultimate messages standard deviation: 34.758546849486386\n",
      "Most of the data will be between -66.93171789652547 and 141.61956320039286\n",
      "\n"
     ]
    }
   ],
   "source": [
    "# Analyse messages\n",
    "ultimate_messages_mean = ultimate_users['messages'].mean()\n",
    "ultimate_messages_variance = np.var(ultimate_users['messages'])\n",
    "ultimate_messages_sd = np.sqrt(ultimate_messages_variance)\n",
    "ultimate_users.hist('messages', density=True)\n",
    "plt.xlabel('messages')\n",
    "plt.ylabel('Frecency - Density')\n",
    "plt.show()\n",
    "print('Ultimate messages mean:', ultimate_messages_mean)\n",
    "print('Ultimate messages variance:', ultimate_messages_variance)\n",
    "print('Ultimate messages standard deviation:', ultimate_messages_sd)\n",
    "print('Most of the data will be between', ultimate_messages_mean - 3 * ultimate_messages_sd, 'and', ultimate_messages_mean + 3 * ultimate_messages_sd )\n",
    "print()"
   ]
  },
  {
   "cell_type": "code",
   "execution_count": 33,
   "id": "01747332",
   "metadata": {},
   "outputs": [
    {
     "data": {
      "image/png": "[encoded data removed]",
      "text/plain": [
       "<Figure size 432x288 with 1 Axes>"
      ]
     },
     "metadata": {
      "needs_background": "light"
     },
     "output_type": "display_data"
    },
    {
     "name": "stdout",
     "output_type": "stream",
     "text": [
      "Ultimate data mean: 17119.590856353592\n",
      "Ultimate data variance: 62854742.21241668\n",
      "Ultimate data standard deviation: 7928.098272121548\n",
      "Most of the data will be between -6664.703960011051 and 40903.885672718236\n",
      "\n"
     ]
    }
   ],
   "source": [
    "# Analyse of the volume of data\n",
    "ultimate_data_mean = ultimate_users['mb_used'].mean()\n",
    "ultimate_data_variance = np.var(ultimate_users['mb_used'])\n",
    "ultimate_data_sd = np.sqrt(ultimate_data_variance)\n",
    "ultimate_users.hist('mb_used', density=True)\n",
    "plt.xlabel('mb_used')\n",
    "plt.ylabel('Frecency - Density')\n",
    "plt.show()\n",
    "print('Ultimate data mean:', ultimate_data_mean)\n",
    "print('Ultimate data variance:', ultimate_data_variance)\n",
    "print('Ultimate data standard deviation:', ultimate_data_sd)\n",
    "print('Most of the data will be between', ultimate_data_mean - 3 * ultimate_data_sd, 'and', ultimate_data_mean + 3 * ultimate_data_sd )\n",
    "print()"
   ]
  },
  {
   "cell_type": "code",
   "execution_count": 34,
   "id": "81239cc2",
   "metadata": {},
   "outputs": [],
   "source": [
    "#Analyse of Surf plan\n",
    "surf_users = user_usages.query('plan == \"surf\"')"
   ]
  },
  {
   "cell_type": "code",
   "execution_count": 35,
   "id": "404f21db",
   "metadata": {},
   "outputs": [
    {
     "data": {
      "image/png": "[encoded data removed]",
      "text/plain": [
       "<Figure size 432x288 with 1 Axes>"
      ]
     },
     "metadata": {
      "needs_background": "light"
     },
     "output_type": "display_data"
    },
    {
     "name": "stdout",
     "output_type": "stream",
     "text": [
      "surf minutes mean: 427.12032932235593\n",
      "surf minutes variance: 55420.45670514804\n",
      "surf minutes standard deviation: 235.4154980139329\n",
      "Most of the data will be between -279.12616471944284 and 1133.3668233641547\n",
      "\n"
     ]
    }
   ],
   "source": [
    "# Analyse minutes\n",
    "surf_minutes_mean = surf_users['duration'].mean()\n",
    "surf_minutes_variance = np.var(surf_users['duration'])\n",
    "surf_minutes_sd = np.sqrt(surf_minutes_variance)\n",
    "surf_users.hist('duration', density=True)\n",
    "plt.xlabel('duration')\n",
    "plt.ylabel('Frecency - Density')\n",
    "plt.show()\n",
    "print('surf minutes mean:', surf_minutes_mean)\n",
    "print('surf minutes variance:', surf_minutes_variance)\n",
    "print('surf minutes standard deviation:', surf_minutes_sd)\n",
    "print('Most of the data will be between', surf_minutes_mean - 3 * surf_minutes_sd, 'and', surf_minutes_mean + 3 * surf_minutes_sd )\n",
    "print()\n"
   ]
  },
  {
   "cell_type": "code",
   "execution_count": 36,
   "id": "33e2ef98",
   "metadata": {},
   "outputs": [
    {
     "data": {
      "image/png": "[encoded data removed]",
      "text/plain": [
       "<Figure size 432x288 with 1 Axes>"
      ]
     },
     "metadata": {
      "needs_background": "light"
     },
     "output_type": "display_data"
    },
    {
     "name": "stdout",
     "output_type": "stream",
     "text": [
      "surf messages mean: 31.041165294490185\n",
      "surf messages variance: 1125.404891865648\n",
      "surf messages standard deviation: 33.547054891087654\n",
      "Most of the data will be between -69.59999937877278 and 131.68232996775316\n",
      "\n"
     ]
    }
   ],
   "source": [
    "# Analyse messages\n",
    "surf_messages_mean = surf_users['messages'].mean()\n",
    "surf_messages_variance = np.var(surf_users['messages'])\n",
    "surf_messages_sd = np.sqrt(surf_messages_variance)\n",
    "surf_users.hist('messages', density=True)\n",
    "plt.xlabel('messages')\n",
    "plt.ylabel('Frecency - Density')\n",
    "plt.show()\n",
    "print('surf messages mean:', surf_messages_mean)\n",
    "print('surf messages variance:', surf_messages_variance)\n",
    "print('surf messages standard deviation:', surf_messages_sd)\n",
    "print('Most of the data will be between', surf_messages_mean - 3 * surf_messages_sd, 'and', surf_messages_mean + 3 * surf_messages_sd )\n",
    "print()"
   ]
  },
  {
   "cell_type": "code",
   "execution_count": 37,
   "id": "e4b8b59e",
   "metadata": {},
   "outputs": [
    {
     "data": {
      "image/png": "[encoded data removed]",
      "text/plain": [
       "<Figure size 432x288 with 1 Axes>"
      ]
     },
     "metadata": {
      "needs_background": "light"
     },
     "output_type": "display_data"
    },
    {
     "name": "stdout",
     "output_type": "stream",
     "text": [
      "surf data mean: 16495.364110196326\n",
      "surf data variance: 64969590.72111388\n",
      "surf data standard deviation: 8060.3716242561595\n",
      "Most of the data will be between -7685.750762572152 and 40676.47898296481\n",
      "\n"
     ]
    }
   ],
   "source": [
    "# Analyse of the volume of data\n",
    "surf_data_mean = surf_users['mb_used'].mean()\n",
    "surf_data_variance = np.var(surf_users['mb_used'])\n",
    "surf_data_sd = np.sqrt(surf_data_variance)\n",
    "surf_users.hist('mb_used', density=True)\n",
    "plt.xlabel('mb_used')\n",
    "plt.ylabel('Frecency - Density')\n",
    "plt.show()\n",
    "print('surf data mean:', surf_data_mean)\n",
    "print('surf data variance:', surf_data_variance)\n",
    "print('surf data standard deviation:', surf_data_sd)\n",
    "print('Most of the data will be between', surf_data_mean - 3 * surf_data_sd, 'and', surf_data_mean + 3 * surf_data_sd )\n",
    "print()"
   ]
  },
  {
   "cell_type": "markdown",
   "id": "9c29cab5",
   "metadata": {},
   "source": [
    "In this part I investigate the clients behavior by dividing them by the plan they using.(Ultimate or Surf).\n",
    "Here my conclusions for this part:\n",
    "Minute mean: Ultimate-428, Surf-427\n",
    "\n",
    "Message mean: Ultimate-37, Surf-31\n",
    "\n",
    "Data mean: Ultimate-17119, Surf-16495\n",
    "\n",
    "Minute variance: Ultimate-58463, Surf-55420\n",
    "\n",
    "Message variance: Ultimate-1208, Surf-1125\n",
    "\n",
    "Data variance: Ultimate-62854741, Surf-64969590\n",
    "\n",
    "Minute Standard Deviation: Ultimate-241, Surf-235\n",
    "\n",
    "Message Standard Deviation: Ultimate-34, Surf-33\n",
    "\n",
    "Data Standard Deviation: Ultimate-7928, Surf-8060\n",
    "\n"
   ]
  },
  {
   "cell_type": "markdown",
   "id": "7dc2cd23",
   "metadata": {},
   "source": [
    "# 4. Test the hypotheses"
   ]
  },
  {
   "cell_type": "markdown",
   "id": "30ceced7",
   "metadata": {},
   "source": [
    "In this part we will try to find the average revenue from users of Ultimate and Surf calling plans. We will see the statistics and investigate it."
   ]
  },
  {
   "cell_type": "markdown",
   "id": "82bfd4ae",
   "metadata": {},
   "source": [
    "H0= if surf users total cost and ultimate users total cost are similar, in 99%.  \n",
    "H1= if surf users total cost and ultimate users total cost are not similar."
   ]
  },
  {
   "cell_type": "code",
   "execution_count": 38,
   "id": "93882a77",
   "metadata": {},
   "outputs": [
    {
     "data": {
      "text/plain": [
       "LeveneResult(statistic=611.2268665153016, pvalue=7.132000635052237e-120)"
      ]
     },
     "execution_count": 38,
     "metadata": {},
     "output_type": "execute_result"
    }
   ],
   "source": [
    "#now we checking if the Pvalue is bigger than the alpha to see if the equal_var will be True or False\n",
    "stats.levene(surf_users['total_cost'], ultimate_users['total_cost'], center = 'mean')"
   ]
  },
  {
   "cell_type": "code",
   "execution_count": 39,
   "id": "d34a1a3c",
   "metadata": {},
   "outputs": [
    {
     "name": "stdout",
     "output_type": "stream",
     "text": [
      "p_value: 4.022008732278441e-05\n",
      "we reject the null hypotheses\n",
      "Surf mean: 66.37820139328689\n",
      "Ultimate mean: 72.95856353591161\n"
     ]
    }
   ],
   "source": [
    "# If the p_value is less than alpha we reject the hypotheses.\n",
    "#Null hypotheses is when what we compare is equal.\n",
    "\n",
    "alpha= 0.05\n",
    "result1 = stats.ttest_ind(\n",
    "        surf_users['total_cost'], \n",
    "        ultimate_users['total_cost'], equal_var = False)\n",
    "\n",
    "print('p_value:', result1.pvalue)\n",
    "\n",
    "if(result1.pvalue < alpha):\n",
    "    print('we reject the null hypotheses')\n",
    "else:\n",
    "    print(\"we can't reject the null hypotheses\")\n",
    "    \n",
    "surf_mean = surf_users['total_cost'].mean()\n",
    "ultimate_mean = ultimate_users['total_cost'].mean()\n",
    "print('Surf mean:', surf_mean)\n",
    "print('Ultimate mean:', ultimate_mean)\n",
    "    \n",
    "          "
   ]
  },
  {
   "cell_type": "markdown",
   "id": "39621383",
   "metadata": {},
   "source": [
    "Now we want to check the behavior of user from different regions.\n",
    "H0= if NY-NJ users total cost and other region users total cost are similar, in 99%.  \n",
    "H1= if NY-NJ users total cost and other region users total cost are not similar."
   ]
  },
  {
   "cell_type": "code",
   "execution_count": 40,
   "id": "0c4e8968",
   "metadata": {},
   "outputs": [
    {
     "data": {
      "text/html": [
       "<div>\n",
       "<style scoped>\n",
       "    .dataframe tbody tr th:only-of-type {\n",
       "        vertical-align: middle;\n",
       "    }\n",
       "\n",
       "    .dataframe tbody tr th {\n",
       "        vertical-align: top;\n",
       "    }\n",
       "\n",
       "    .dataframe thead th {\n",
       "        text-align: right;\n",
       "    }\n",
       "</style>\n",
       "<table border=\"1\" class=\"dataframe\">\n",
       "  <thead>\n",
       "    <tr style=\"text-align: right;\">\n",
       "      <th></th>\n",
       "      <th>user_id</th>\n",
       "      <th>duration</th>\n",
       "      <th>messages</th>\n",
       "      <th>mb_used</th>\n",
       "      <th>gb_used</th>\n",
       "      <th>first_name</th>\n",
       "      <th>last_name</th>\n",
       "      <th>age</th>\n",
       "      <th>city</th>\n",
       "      <th>reg_date</th>\n",
       "      <th>plan</th>\n",
       "      <th>churn_date</th>\n",
       "      <th>total_cost</th>\n",
       "    </tr>\n",
       "  </thead>\n",
       "  <tbody>\n",
       "    <tr>\n",
       "      <td>56</td>\n",
       "      <td>1014</td>\n",
       "      <td>163</td>\n",
       "      <td>9.0</td>\n",
       "      <td>1175.59</td>\n",
       "      <td>2.0</td>\n",
       "      <td>Edmundo</td>\n",
       "      <td>Simon</td>\n",
       "      <td>61</td>\n",
       "      <td>New York-Newark-Jersey City, NY-NJ-PA MSA</td>\n",
       "      <td>2018-11-25</td>\n",
       "      <td>surf</td>\n",
       "      <td>0</td>\n",
       "      <td>20.00</td>\n",
       "    </tr>\n",
       "    <tr>\n",
       "      <td>57</td>\n",
       "      <td>1014</td>\n",
       "      <td>1114</td>\n",
       "      <td>64.0</td>\n",
       "      <td>7792.41</td>\n",
       "      <td>8.0</td>\n",
       "      <td>Edmundo</td>\n",
       "      <td>Simon</td>\n",
       "      <td>61</td>\n",
       "      <td>New York-Newark-Jersey City, NY-NJ-PA MSA</td>\n",
       "      <td>2018-11-25</td>\n",
       "      <td>surf</td>\n",
       "      <td>0</td>\n",
       "      <td>38.84</td>\n",
       "    </tr>\n",
       "    <tr>\n",
       "      <td>75</td>\n",
       "      <td>1022</td>\n",
       "      <td>302</td>\n",
       "      <td>0.0</td>\n",
       "      <td>4908.08</td>\n",
       "      <td>6.0</td>\n",
       "      <td>Bo</td>\n",
       "      <td>Snow</td>\n",
       "      <td>73</td>\n",
       "      <td>New York-Newark-Jersey City, NY-NJ-PA MSA</td>\n",
       "      <td>2018-04-20</td>\n",
       "      <td>surf</td>\n",
       "      <td>2018-09-07</td>\n",
       "      <td>20.00</td>\n",
       "    </tr>\n",
       "    <tr>\n",
       "      <td>76</td>\n",
       "      <td>1022</td>\n",
       "      <td>490</td>\n",
       "      <td>0.0</td>\n",
       "      <td>23436.48</td>\n",
       "      <td>24.0</td>\n",
       "      <td>Bo</td>\n",
       "      <td>Snow</td>\n",
       "      <td>73</td>\n",
       "      <td>New York-Newark-Jersey City, NY-NJ-PA MSA</td>\n",
       "      <td>2018-04-20</td>\n",
       "      <td>surf</td>\n",
       "      <td>2018-09-07</td>\n",
       "      <td>110.00</td>\n",
       "    </tr>\n",
       "    <tr>\n",
       "      <td>77</td>\n",
       "      <td>1022</td>\n",
       "      <td>475</td>\n",
       "      <td>0.0</td>\n",
       "      <td>9933.15</td>\n",
       "      <td>11.0</td>\n",
       "      <td>Bo</td>\n",
       "      <td>Snow</td>\n",
       "      <td>73</td>\n",
       "      <td>New York-Newark-Jersey City, NY-NJ-PA MSA</td>\n",
       "      <td>2018-04-20</td>\n",
       "      <td>surf</td>\n",
       "      <td>2018-09-07</td>\n",
       "      <td>20.00</td>\n",
       "    </tr>\n",
       "  </tbody>\n",
       "</table>\n",
       "</div>"
      ],
      "text/plain": [
       "    user_id  duration  messages   mb_used  gb_used first_name last_name  age  \\\n",
       "56     1014       163       9.0   1175.59      2.0    Edmundo     Simon   61   \n",
       "57     1014      1114      64.0   7792.41      8.0    Edmundo     Simon   61   \n",
       "75     1022       302       0.0   4908.08      6.0         Bo      Snow   73   \n",
       "76     1022       490       0.0  23436.48     24.0         Bo      Snow   73   \n",
       "77     1022       475       0.0   9933.15     11.0         Bo      Snow   73   \n",
       "\n",
       "                                         city    reg_date  plan  churn_date  \\\n",
       "56  New York-Newark-Jersey City, NY-NJ-PA MSA  2018-11-25  surf           0   \n",
       "57  New York-Newark-Jersey City, NY-NJ-PA MSA  2018-11-25  surf           0   \n",
       "75  New York-Newark-Jersey City, NY-NJ-PA MSA  2018-04-20  surf  2018-09-07   \n",
       "76  New York-Newark-Jersey City, NY-NJ-PA MSA  2018-04-20  surf  2018-09-07   \n",
       "77  New York-Newark-Jersey City, NY-NJ-PA MSA  2018-04-20  surf  2018-09-07   \n",
       "\n",
       "    total_cost  \n",
       "56       20.00  \n",
       "57       38.84  \n",
       "75       20.00  \n",
       "76      110.00  \n",
       "77       20.00  "
      ]
     },
     "metadata": {},
     "output_type": "display_data"
    },
    {
     "data": {
      "text/html": [
       "<div>\n",
       "<style scoped>\n",
       "    .dataframe tbody tr th:only-of-type {\n",
       "        vertical-align: middle;\n",
       "    }\n",
       "\n",
       "    .dataframe tbody tr th {\n",
       "        vertical-align: top;\n",
       "    }\n",
       "\n",
       "    .dataframe thead th {\n",
       "        text-align: right;\n",
       "    }\n",
       "</style>\n",
       "<table border=\"1\" class=\"dataframe\">\n",
       "  <thead>\n",
       "    <tr style=\"text-align: right;\">\n",
       "      <th></th>\n",
       "      <th>user_id</th>\n",
       "      <th>duration</th>\n",
       "      <th>messages</th>\n",
       "      <th>mb_used</th>\n",
       "      <th>gb_used</th>\n",
       "      <th>first_name</th>\n",
       "      <th>last_name</th>\n",
       "      <th>age</th>\n",
       "      <th>city</th>\n",
       "      <th>reg_date</th>\n",
       "      <th>plan</th>\n",
       "      <th>churn_date</th>\n",
       "      <th>total_cost</th>\n",
       "    </tr>\n",
       "  </thead>\n",
       "  <tbody>\n",
       "    <tr>\n",
       "      <td>0</td>\n",
       "      <td>1000</td>\n",
       "      <td>124</td>\n",
       "      <td>11.0</td>\n",
       "      <td>1901.47</td>\n",
       "      <td>2.0</td>\n",
       "      <td>Anamaria</td>\n",
       "      <td>Bauer</td>\n",
       "      <td>45</td>\n",
       "      <td>Atlanta-Sandy Springs-Roswell, GA MSA</td>\n",
       "      <td>2018-12-24</td>\n",
       "      <td>ultimate</td>\n",
       "      <td>0</td>\n",
       "      <td>70.00</td>\n",
       "    </tr>\n",
       "    <tr>\n",
       "      <td>1</td>\n",
       "      <td>1001</td>\n",
       "      <td>182</td>\n",
       "      <td>30.0</td>\n",
       "      <td>6919.15</td>\n",
       "      <td>8.0</td>\n",
       "      <td>Mickey</td>\n",
       "      <td>Wilkerson</td>\n",
       "      <td>28</td>\n",
       "      <td>Seattle-Tacoma-Bellevue, WA MSA</td>\n",
       "      <td>2018-08-13</td>\n",
       "      <td>surf</td>\n",
       "      <td>0</td>\n",
       "      <td>20.00</td>\n",
       "    </tr>\n",
       "    <tr>\n",
       "      <td>2</td>\n",
       "      <td>1001</td>\n",
       "      <td>315</td>\n",
       "      <td>44.0</td>\n",
       "      <td>13314.82</td>\n",
       "      <td>14.0</td>\n",
       "      <td>Mickey</td>\n",
       "      <td>Wilkerson</td>\n",
       "      <td>28</td>\n",
       "      <td>Seattle-Tacoma-Bellevue, WA MSA</td>\n",
       "      <td>2018-08-13</td>\n",
       "      <td>surf</td>\n",
       "      <td>0</td>\n",
       "      <td>20.00</td>\n",
       "    </tr>\n",
       "    <tr>\n",
       "      <td>3</td>\n",
       "      <td>1001</td>\n",
       "      <td>393</td>\n",
       "      <td>53.0</td>\n",
       "      <td>22330.49</td>\n",
       "      <td>23.0</td>\n",
       "      <td>Mickey</td>\n",
       "      <td>Wilkerson</td>\n",
       "      <td>28</td>\n",
       "      <td>Seattle-Tacoma-Bellevue, WA MSA</td>\n",
       "      <td>2018-08-13</td>\n",
       "      <td>surf</td>\n",
       "      <td>0</td>\n",
       "      <td>100.09</td>\n",
       "    </tr>\n",
       "    <tr>\n",
       "      <td>4</td>\n",
       "      <td>1001</td>\n",
       "      <td>426</td>\n",
       "      <td>36.0</td>\n",
       "      <td>18504.30</td>\n",
       "      <td>19.0</td>\n",
       "      <td>Mickey</td>\n",
       "      <td>Wilkerson</td>\n",
       "      <td>28</td>\n",
       "      <td>Seattle-Tacoma-Bellevue, WA MSA</td>\n",
       "      <td>2018-08-13</td>\n",
       "      <td>surf</td>\n",
       "      <td>0</td>\n",
       "      <td>60.00</td>\n",
       "    </tr>\n",
       "  </tbody>\n",
       "</table>\n",
       "</div>"
      ],
      "text/plain": [
       "   user_id  duration  messages   mb_used  gb_used first_name  last_name  age  \\\n",
       "0     1000       124      11.0   1901.47      2.0   Anamaria      Bauer   45   \n",
       "1     1001       182      30.0   6919.15      8.0     Mickey  Wilkerson   28   \n",
       "2     1001       315      44.0  13314.82     14.0     Mickey  Wilkerson   28   \n",
       "3     1001       393      53.0  22330.49     23.0     Mickey  Wilkerson   28   \n",
       "4     1001       426      36.0  18504.30     19.0     Mickey  Wilkerson   28   \n",
       "\n",
       "                                    city    reg_date      plan churn_date  \\\n",
       "0  Atlanta-Sandy Springs-Roswell, GA MSA  2018-12-24  ultimate          0   \n",
       "1        Seattle-Tacoma-Bellevue, WA MSA  2018-08-13      surf          0   \n",
       "2        Seattle-Tacoma-Bellevue, WA MSA  2018-08-13      surf          0   \n",
       "3        Seattle-Tacoma-Bellevue, WA MSA  2018-08-13      surf          0   \n",
       "4        Seattle-Tacoma-Bellevue, WA MSA  2018-08-13      surf          0   \n",
       "\n",
       "   total_cost  \n",
       "0       70.00  \n",
       "1       20.00  \n",
       "2       20.00  \n",
       "3      100.09  \n",
       "4       60.00  "
      ]
     },
     "metadata": {},
     "output_type": "display_data"
    }
   ],
   "source": [
    "#Users from NY-NJ\n",
    "ny_nj_users = user_usages[user_usages['city'].str.contains(\"NY-NJ\")]\n",
    "display(ny_nj_users.head(5))\n",
    "#Users from others regions\n",
    "other_regions = user_usages[~user_usages['city'].str.contains(\"NY-NJ\")]\n",
    "display(other_regions.head(5))"
   ]
  },
  {
   "cell_type": "code",
   "execution_count": 41,
   "id": "c9fcf3c4",
   "metadata": {},
   "outputs": [
    {
     "data": {
      "text/plain": [
       "LeveneResult(statistic=3.2098015525057457, pvalue=0.07332972581999571)"
      ]
     },
     "execution_count": 41,
     "metadata": {},
     "output_type": "execute_result"
    }
   ],
   "source": [
    "stats.levene(ny_nj_users['total_cost'], other_regions['total_cost'], center = 'mean')"
   ]
  },
  {
   "cell_type": "code",
   "execution_count": 42,
   "id": "232b166e",
   "metadata": {},
   "outputs": [
    {
     "name": "stdout",
     "output_type": "stream",
     "text": [
      "p_value: 0.1682454331317541\n",
      "we can't reject the null hypotheses\n",
      "NY-NJ users mean: 65.17552910052909\n",
      "Other regions users mean: 69.08926233766235\n"
     ]
    }
   ],
   "source": [
    "alpha= 0.05\n",
    "result2 = stats.ttest_ind(\n",
    "        ny_nj_users['total_cost'], \n",
    "        other_regions['total_cost'], equal_var = True)\n",
    "\n",
    "print('p_value:', result2.pvalue)\n",
    "\n",
    "if(result2.pvalue < alpha):\n",
    "    print('we reject the null hypotheses')\n",
    "else:\n",
    "    print(\"we can't reject the null hypotheses\")\n",
    "    \n",
    "ny_nj_users_mean = ny_nj_users['total_cost'].mean()\n",
    "other_regions_mean = other_regions['total_cost'].mean()\n",
    "print('NY-NJ users mean:', ny_nj_users_mean)\n",
    "print('Other regions users mean:', other_regions_mean)\n",
    "    \n",
    "          "
   ]
  },
  {
   "cell_type": "markdown",
   "id": "293066b3",
   "metadata": {},
   "source": [
    "In this part I test the hypotheses.\n",
    "The revenue for Ultimate plans and Surf plans are not the same.\n",
    "\n",
    "The total cost Surf mean is: 50.85 and total cost mean for ultimate plan is: 72.63.\n",
    "\n",
    "I checked also hypotheses for the region of NY-NJ and the other regions. We also reject the null hypotheses.\n",
    "\n",
    "The total cost mean for users from NY_NJ is 53 and for users from other regions is 58.6."
   ]
  },
  {
   "cell_type": "markdown",
   "id": "66ae8918",
   "metadata": {},
   "source": [
    "# 5. Conclusion"
   ]
  },
  {
   "cell_type": "markdown",
   "id": "4311713b",
   "metadata": {},
   "source": [
    "In this project I was asked to analyse the behavior of the customers of Megaline(Telecom companie) in order to find out wich plan is giving more revenue to the companie.\n",
    "\n",
    "First I start by opening the data. We have five Dataframe: calls, Internet, Messages, plans and users.\n",
    "\n",
    "Then I prepare the Data for analyse. I add a column for month in call, message and internet Dataframe. Then I count the usage per user per month for each of this categories. I convert mb to gb in order to have a more clear Data.\n",
    "I join all the Dataframe in one clear Dataframe.\n",
    "\n",
    "I continue to investigate the clients behavior by dividing them by the plan they using.(Ultimate or Surf).\n",
    "Here my conclusions for this part:\n",
    "Minute mean: Ultimate-428, Surf-427\n",
    "Message mean: Ultimate-37, Surf-31\n",
    "Data mean: Ultimate-17119, Surf-16495\n",
    "Minute variance: Ultimate-58463, Surf-55420\n",
    "Message variance: Ultimate-1208, Surf-1125\n",
    "Data variance: Ultimate-62854741, Surf-64969590\n",
    "Minute Standard Deviation: Ultimate-241, Surf-235\n",
    "Message Standard Deviation: Ultimate-34, Surf-33\n",
    "Data Standard Deviation: Ultimate-7928, Surf-8060\n",
    "\n",
    "Finally, I test the hypotheses.\n",
    "The revenue for Ultimate plans and Surf plans are not the same.\n",
    "The total cost Surf mean is: 50.85 and total cost mean for ultimate plan is: 72.63.\n",
    "I checked also hypotheses for the region of NY-NJ and the other regions. We also reject the null hypotheses.\n",
    "The total cost mean for users from NY_NJ is 53 and for users from other regions is 58.6.\n",
    "\n"
   ]
  }
 ],
 "metadata": {
  "ExecuteTimeLog": [
   {
    "duration": 7633,
    "start_time": "2022-02-11T09:38:25.434Z"
   },
   {
    "duration": 1576,
    "start_time": "2022-02-11T09:38:33.069Z"
   },
   {
    "duration": 1425,
    "start_time": "2022-02-11T09:38:34.647Z"
   },
   {
    "duration": -28,
    "start_time": "2022-02-11T09:38:36.105Z"
   },
   {
    "duration": -28,
    "start_time": "2022-02-11T09:38:36.107Z"
   },
   {
    "duration": -31,
    "start_time": "2022-02-11T09:38:36.111Z"
   },
   {
    "duration": -32,
    "start_time": "2022-02-11T09:38:36.114Z"
   },
   {
    "duration": -33,
    "start_time": "2022-02-11T09:38:36.116Z"
   },
   {
    "duration": -34,
    "start_time": "2022-02-11T09:38:36.119Z"
   },
   {
    "duration": -35,
    "start_time": "2022-02-11T09:38:36.122Z"
   },
   {
    "duration": -58,
    "start_time": "2022-02-11T09:38:36.146Z"
   },
   {
    "duration": -60,
    "start_time": "2022-02-11T09:38:36.150Z"
   },
   {
    "duration": -62,
    "start_time": "2022-02-11T09:38:36.153Z"
   },
   {
    "duration": -64,
    "start_time": "2022-02-11T09:38:36.157Z"
   },
   {
    "duration": -65,
    "start_time": "2022-02-11T09:38:36.160Z"
   },
   {
    "duration": -67,
    "start_time": "2022-02-11T09:38:36.163Z"
   },
   {
    "duration": -68,
    "start_time": "2022-02-11T09:38:36.166Z"
   },
   {
    "duration": -70,
    "start_time": "2022-02-11T09:38:36.169Z"
   },
   {
    "duration": -71,
    "start_time": "2022-02-11T09:38:36.172Z"
   },
   {
    "duration": -72,
    "start_time": "2022-02-11T09:38:36.175Z"
   },
   {
    "duration": -74,
    "start_time": "2022-02-11T09:38:36.178Z"
   },
   {
    "duration": -82,
    "start_time": "2022-02-11T09:38:36.188Z"
   },
   {
    "duration": -84,
    "start_time": "2022-02-11T09:38:36.191Z"
   },
   {
    "duration": -85,
    "start_time": "2022-02-11T09:38:36.194Z"
   },
   {
    "duration": -86,
    "start_time": "2022-02-11T09:38:36.196Z"
   },
   {
    "duration": -87,
    "start_time": "2022-02-11T09:38:36.199Z"
   },
   {
    "duration": -88,
    "start_time": "2022-02-11T09:38:36.201Z"
   },
   {
    "duration": -89,
    "start_time": "2022-02-11T09:38:36.204Z"
   },
   {
    "duration": -91,
    "start_time": "2022-02-11T09:38:36.207Z"
   },
   {
    "duration": -92,
    "start_time": "2022-02-11T09:38:36.210Z"
   },
   {
    "duration": -92,
    "start_time": "2022-02-11T09:38:36.212Z"
   },
   {
    "duration": -95,
    "start_time": "2022-02-11T09:38:36.216Z"
   },
   {
    "duration": -95,
    "start_time": "2022-02-11T09:38:36.218Z"
   },
   {
    "duration": -107,
    "start_time": "2022-02-11T09:38:36.231Z"
   },
   {
    "duration": -107,
    "start_time": "2022-02-11T09:38:36.233Z"
   },
   {
    "duration": -110,
    "start_time": "2022-02-11T09:38:36.237Z"
   },
   {
    "duration": -110,
    "start_time": "2022-02-11T09:38:36.239Z"
   },
   {
    "duration": -111,
    "start_time": "2022-02-11T09:38:36.241Z"
   },
   {
    "duration": -111,
    "start_time": "2022-02-11T09:38:36.243Z"
   },
   {
    "duration": -112,
    "start_time": "2022-02-11T09:38:36.246Z"
   },
   {
    "duration": -113,
    "start_time": "2022-02-11T09:38:36.248Z"
   },
   {
    "duration": -113,
    "start_time": "2022-02-11T09:38:36.250Z"
   },
   {
    "duration": 7562,
    "start_time": "2022-02-11T12:07:39.340Z"
   },
   {
    "duration": 1546,
    "start_time": "2022-02-11T12:07:46.905Z"
   },
   {
    "duration": 1397,
    "start_time": "2022-02-11T12:07:48.453Z"
   },
   {
    "duration": -108,
    "start_time": "2022-02-11T12:07:49.961Z"
   },
   {
    "duration": -118,
    "start_time": "2022-02-11T12:07:49.972Z"
   },
   {
    "duration": -123,
    "start_time": "2022-02-11T12:07:49.978Z"
   },
   {
    "duration": -153,
    "start_time": "2022-02-11T12:07:50.009Z"
   },
   {
    "duration": -158,
    "start_time": "2022-02-11T12:07:50.015Z"
   },
   {
    "duration": -160,
    "start_time": "2022-02-11T12:07:50.018Z"
   },
   {
    "duration": -165,
    "start_time": "2022-02-11T12:07:50.023Z"
   },
   {
    "duration": -167,
    "start_time": "2022-02-11T12:07:50.026Z"
   },
   {
    "duration": -170,
    "start_time": "2022-02-11T12:07:50.030Z"
   },
   {
    "duration": -179,
    "start_time": "2022-02-11T12:07:50.041Z"
   },
   {
    "duration": -184,
    "start_time": "2022-02-11T12:07:50.047Z"
   },
   {
    "duration": -229,
    "start_time": "2022-02-11T12:07:50.093Z"
   },
   {
    "duration": -234,
    "start_time": "2022-02-11T12:07:50.098Z"
   },
   {
    "duration": -236,
    "start_time": "2022-02-11T12:07:50.101Z"
   },
   {
    "duration": -239,
    "start_time": "2022-02-11T12:07:50.105Z"
   },
   {
    "duration": -242,
    "start_time": "2022-02-11T12:07:50.109Z"
   },
   {
    "duration": -245,
    "start_time": "2022-02-11T12:07:50.113Z"
   },
   {
    "duration": -247,
    "start_time": "2022-02-11T12:07:50.116Z"
   },
   {
    "duration": -249,
    "start_time": "2022-02-11T12:07:50.119Z"
   },
   {
    "duration": -267,
    "start_time": "2022-02-11T12:07:50.138Z"
   },
   {
    "duration": -270,
    "start_time": "2022-02-11T12:07:50.142Z"
   },
   {
    "duration": -272,
    "start_time": "2022-02-11T12:07:50.145Z"
   },
   {
    "duration": -274,
    "start_time": "2022-02-11T12:07:50.148Z"
   },
   {
    "duration": -277,
    "start_time": "2022-02-11T12:07:50.151Z"
   },
   {
    "duration": -279,
    "start_time": "2022-02-11T12:07:50.155Z"
   },
   {
    "duration": -283,
    "start_time": "2022-02-11T12:07:50.160Z"
   },
   {
    "duration": -286,
    "start_time": "2022-02-11T12:07:50.164Z"
   },
   {
    "duration": -287,
    "start_time": "2022-02-11T12:07:50.166Z"
   },
   {
    "duration": -296,
    "start_time": "2022-02-11T12:07:50.176Z"
   },
   {
    "duration": -304,
    "start_time": "2022-02-11T12:07:50.185Z"
   },
   {
    "duration": -307,
    "start_time": "2022-02-11T12:07:50.189Z"
   },
   {
    "duration": -310,
    "start_time": "2022-02-11T12:07:50.193Z"
   },
   {
    "duration": -326,
    "start_time": "2022-02-11T12:07:50.210Z"
   },
   {
    "duration": -330,
    "start_time": "2022-02-11T12:07:50.215Z"
   },
   {
    "duration": -332,
    "start_time": "2022-02-11T12:07:50.218Z"
   },
   {
    "duration": -335,
    "start_time": "2022-02-11T12:07:50.222Z"
   },
   {
    "duration": -340,
    "start_time": "2022-02-11T12:07:50.227Z"
   },
   {
    "duration": -342,
    "start_time": "2022-02-11T12:07:50.230Z"
   },
   {
    "duration": -344,
    "start_time": "2022-02-11T12:07:50.233Z"
   },
   {
    "duration": 320,
    "start_time": "2022-02-11T12:10:23.957Z"
   },
   {
    "duration": 18,
    "start_time": "2022-02-11T12:10:26.785Z"
   },
   {
    "duration": 95,
    "start_time": "2022-02-11T12:10:27.487Z"
   },
   {
    "duration": 1216,
    "start_time": "2022-02-11T12:10:28.105Z"
   },
   {
    "duration": -159,
    "start_time": "2022-02-11T12:10:29.483Z"
   },
   {
    "duration": -161,
    "start_time": "2022-02-11T12:10:29.487Z"
   },
   {
    "duration": 2060,
    "start_time": "2022-02-11T12:10:29.424Z"
   },
   {
    "duration": 14,
    "start_time": "2022-02-11T12:10:32.287Z"
   },
   {
    "duration": 27,
    "start_time": "2022-02-11T12:10:32.820Z"
   },
   {
    "duration": 1264,
    "start_time": "2022-02-11T12:10:33.520Z"
   },
   {
    "duration": -105,
    "start_time": "2022-02-11T12:10:34.891Z"
   },
   {
    "duration": 21,
    "start_time": "2022-02-11T12:10:34.926Z"
   },
   {
    "duration": 1288,
    "start_time": "2022-02-11T12:10:35.603Z"
   },
   {
    "duration": -107,
    "start_time": "2022-02-11T12:10:37.000Z"
   },
   {
    "duration": -111,
    "start_time": "2022-02-11T12:10:37.005Z"
   },
   {
    "duration": 10,
    "start_time": "2022-02-11T12:10:38.926Z"
   },
   {
    "duration": 1188,
    "start_time": "2022-02-11T12:10:43.625Z"
   },
   {
    "duration": -171,
    "start_time": "2022-02-11T12:10:44.986Z"
   },
   {
    "duration": 1180,
    "start_time": "2022-02-11T12:10:48.431Z"
   },
   {
    "duration": 26,
    "start_time": "2022-02-11T12:10:49.984Z"
   },
   {
    "duration": 15,
    "start_time": "2022-02-11T12:12:04.557Z"
   },
   {
    "duration": 27,
    "start_time": "2022-02-11T12:13:27.707Z"
   },
   {
    "duration": 26,
    "start_time": "2022-02-11T12:14:41.255Z"
   },
   {
    "duration": 570,
    "start_time": "2022-02-11T12:14:41.336Z"
   },
   {
    "duration": 16,
    "start_time": "2022-02-11T12:14:42.101Z"
   },
   {
    "duration": 11,
    "start_time": "2022-02-11T12:14:42.649Z"
   },
   {
    "duration": 913,
    "start_time": "2022-02-11T12:14:43.233Z"
   },
   {
    "duration": 51,
    "start_time": "2022-02-11T12:14:44.148Z"
   },
   {
    "duration": 183,
    "start_time": "2022-02-11T12:16:19.294Z"
   },
   {
    "duration": 43,
    "start_time": "2022-02-11T12:16:31.967Z"
   },
   {
    "duration": 4,
    "start_time": "2022-02-11T12:16:32.961Z"
   },
   {
    "duration": 8,
    "start_time": "2022-02-11T12:16:33.217Z"
   },
   {
    "duration": 847,
    "start_time": "2022-02-11T12:16:33.557Z"
   },
   {
    "duration": 6,
    "start_time": "2022-02-11T12:16:34.406Z"
   },
   {
    "duration": 11,
    "start_time": "2022-02-11T12:16:34.414Z"
   },
   {
    "duration": 17,
    "start_time": "2022-02-11T12:16:34.669Z"
   },
   {
    "duration": 788,
    "start_time": "2022-02-11T12:17:36.431Z"
   },
   {
    "duration": 192,
    "start_time": "2022-02-11T12:21:17.233Z"
   },
   {
    "duration": 212,
    "start_time": "2022-02-11T12:21:18.280Z"
   },
   {
    "duration": 8,
    "start_time": "2022-02-11T12:21:22.117Z"
   },
   {
    "duration": 261,
    "start_time": "2022-02-11T12:21:22.841Z"
   },
   {
    "duration": 223,
    "start_time": "2022-02-11T12:21:23.517Z"
   },
   {
    "duration": 233,
    "start_time": "2022-02-11T12:21:24.483Z"
   },
   {
    "duration": 5,
    "start_time": "2022-02-11T12:21:25.250Z"
   },
   {
    "duration": 260,
    "start_time": "2022-02-11T12:21:25.738Z"
   },
   {
    "duration": 251,
    "start_time": "2022-02-11T12:21:26.226Z"
   },
   {
    "duration": 261,
    "start_time": "2022-02-11T12:21:26.687Z"
   },
   {
    "duration": 7,
    "start_time": "2022-02-11T12:22:20.574Z"
   },
   {
    "duration": 10,
    "start_time": "2022-02-11T12:22:21.108Z"
   },
   {
    "duration": 33,
    "start_time": "2022-02-11T12:22:21.657Z"
   },
   {
    "duration": 7,
    "start_time": "2022-02-11T12:22:22.028Z"
   },
   {
    "duration": 7,
    "start_time": "2022-02-11T12:22:22.367Z"
   },
   {
    "duration": 1377,
    "start_time": "2022-02-12T18:34:06.357Z"
   },
   {
    "duration": 1831,
    "start_time": "2022-02-12T18:34:38.249Z"
   },
   {
    "duration": 2854,
    "start_time": "2022-02-12T18:35:12.840Z"
   },
   {
    "duration": 1295,
    "start_time": "2022-02-12T18:35:15.696Z"
   },
   {
    "duration": 1829,
    "start_time": "2022-02-12T18:35:16.994Z"
   },
   {
    "duration": 2561,
    "start_time": "2022-02-12T18:35:16.266Z"
   },
   {
    "duration": 2561,
    "start_time": "2022-02-12T18:35:16.267Z"
   },
   {
    "duration": 2561,
    "start_time": "2022-02-12T18:35:16.269Z"
   },
   {
    "duration": 2552,
    "start_time": "2022-02-12T18:35:16.279Z"
   },
   {
    "duration": 2551,
    "start_time": "2022-02-12T18:35:16.281Z"
   },
   {
    "duration": 2551,
    "start_time": "2022-02-12T18:35:16.282Z"
   },
   {
    "duration": 2551,
    "start_time": "2022-02-12T18:35:16.283Z"
   },
   {
    "duration": 2551,
    "start_time": "2022-02-12T18:35:16.284Z"
   },
   {
    "duration": 2550,
    "start_time": "2022-02-12T18:35:16.286Z"
   },
   {
    "duration": 2550,
    "start_time": "2022-02-12T18:35:16.287Z"
   },
   {
    "duration": 2549,
    "start_time": "2022-02-12T18:35:16.288Z"
   },
   {
    "duration": 2549,
    "start_time": "2022-02-12T18:35:16.289Z"
   },
   {
    "duration": 2548,
    "start_time": "2022-02-12T18:35:16.291Z"
   },
   {
    "duration": 2548,
    "start_time": "2022-02-12T18:35:16.292Z"
   },
   {
    "duration": 2545,
    "start_time": "2022-02-12T18:35:16.296Z"
   },
   {
    "duration": 2544,
    "start_time": "2022-02-12T18:35:16.298Z"
   },
   {
    "duration": 2475,
    "start_time": "2022-02-12T18:35:16.368Z"
   },
   {
    "duration": 2472,
    "start_time": "2022-02-12T18:35:16.372Z"
   },
   {
    "duration": 2472,
    "start_time": "2022-02-12T18:35:16.373Z"
   },
   {
    "duration": 2472,
    "start_time": "2022-02-12T18:35:16.374Z"
   },
   {
    "duration": 2472,
    "start_time": "2022-02-12T18:35:16.375Z"
   },
   {
    "duration": 2472,
    "start_time": "2022-02-12T18:35:16.376Z"
   },
   {
    "duration": 2472,
    "start_time": "2022-02-12T18:35:16.377Z"
   },
   {
    "duration": 2471,
    "start_time": "2022-02-12T18:35:16.379Z"
   },
   {
    "duration": 2468,
    "start_time": "2022-02-12T18:35:16.383Z"
   },
   {
    "duration": 2467,
    "start_time": "2022-02-12T18:35:16.385Z"
   },
   {
    "duration": 2467,
    "start_time": "2022-02-12T18:35:16.386Z"
   },
   {
    "duration": 2462,
    "start_time": "2022-02-12T18:35:16.392Z"
   },
   {
    "duration": 2463,
    "start_time": "2022-02-12T18:35:16.393Z"
   },
   {
    "duration": 2463,
    "start_time": "2022-02-12T18:35:16.394Z"
   },
   {
    "duration": 2462,
    "start_time": "2022-02-12T18:35:16.396Z"
   },
   {
    "duration": 2462,
    "start_time": "2022-02-12T18:35:16.397Z"
   },
   {
    "duration": 2462,
    "start_time": "2022-02-12T18:35:16.398Z"
   },
   {
    "duration": 2461,
    "start_time": "2022-02-12T18:35:16.400Z"
   },
   {
    "duration": 2461,
    "start_time": "2022-02-12T18:35:16.401Z"
   },
   {
    "duration": 2461,
    "start_time": "2022-02-12T18:35:16.402Z"
   },
   {
    "duration": 2461,
    "start_time": "2022-02-12T18:35:16.403Z"
   },
   {
    "duration": 2499,
    "start_time": "2022-02-12T18:35:16.408Z"
   },
   {
    "duration": 2499,
    "start_time": "2022-02-12T18:35:16.410Z"
   },
   {
    "duration": 1807,
    "start_time": "2022-02-12T18:35:26.117Z"
   },
   {
    "duration": 4,
    "start_time": "2022-02-12T18:35:31.221Z"
   },
   {
    "duration": 2027,
    "start_time": "2022-02-12T18:36:01.533Z"
   },
   {
    "duration": 2014,
    "start_time": "2022-02-12T18:36:22.641Z"
   },
   {
    "duration": 2186,
    "start_time": "2022-02-12T18:36:33.132Z"
   },
   {
    "duration": 1734,
    "start_time": "2022-02-12T18:37:07.648Z"
   },
   {
    "duration": 134,
    "start_time": "2022-02-12T18:39:13.437Z"
   },
   {
    "duration": 112,
    "start_time": "2022-02-12T18:39:44.951Z"
   },
   {
    "duration": 16,
    "start_time": "2022-02-12T18:39:46.595Z"
   },
   {
    "duration": 59,
    "start_time": "2022-02-12T18:40:17.758Z"
   },
   {
    "duration": 20,
    "start_time": "2022-02-12T18:40:45.372Z"
   },
   {
    "duration": 26,
    "start_time": "2022-02-12T18:41:03.971Z"
   },
   {
    "duration": 2315,
    "start_time": "2022-02-12T18:41:29.412Z"
   },
   {
    "duration": 1160,
    "start_time": "2022-02-12T18:41:31.729Z"
   },
   {
    "duration": 124,
    "start_time": "2022-02-12T18:41:32.892Z"
   },
   {
    "duration": 18,
    "start_time": "2022-02-12T18:41:33.018Z"
   },
   {
    "duration": 112,
    "start_time": "2022-02-12T18:41:33.038Z"
   },
   {
    "duration": 99,
    "start_time": "2022-02-12T18:41:33.152Z"
   },
   {
    "duration": 14,
    "start_time": "2022-02-12T18:41:33.253Z"
   },
   {
    "duration": 43,
    "start_time": "2022-02-12T18:41:33.269Z"
   },
   {
    "duration": 60,
    "start_time": "2022-02-12T18:41:33.315Z"
   },
   {
    "duration": 12,
    "start_time": "2022-02-12T18:41:33.378Z"
   },
   {
    "duration": 34,
    "start_time": "2022-02-12T18:41:33.392Z"
   },
   {
    "duration": 18,
    "start_time": "2022-02-12T18:41:33.428Z"
   },
   {
    "duration": 28,
    "start_time": "2022-02-12T18:41:33.449Z"
   },
   {
    "duration": 7,
    "start_time": "2022-02-12T18:41:33.479Z"
   },
   {
    "duration": 1290,
    "start_time": "2022-02-12T18:41:33.488Z"
   },
   {
    "duration": 33,
    "start_time": "2022-02-12T18:41:34.780Z"
   },
   {
    "duration": 18,
    "start_time": "2022-02-12T18:41:34.815Z"
   },
   {
    "duration": 26,
    "start_time": "2022-02-12T18:41:34.835Z"
   },
   {
    "duration": 626,
    "start_time": "2022-02-12T18:41:34.862Z"
   },
   {
    "duration": 30,
    "start_time": "2022-02-12T18:41:35.490Z"
   },
   {
    "duration": 12,
    "start_time": "2022-02-12T18:41:35.523Z"
   },
   {
    "duration": 1029,
    "start_time": "2022-02-12T18:41:35.537Z"
   },
   {
    "duration": 53,
    "start_time": "2022-02-12T18:41:36.568Z"
   },
   {
    "duration": 42,
    "start_time": "2022-02-12T18:41:36.624Z"
   },
   {
    "duration": 4,
    "start_time": "2022-02-12T18:41:36.668Z"
   },
   {
    "duration": 10,
    "start_time": "2022-02-12T18:41:36.674Z"
   },
   {
    "duration": 806,
    "start_time": "2022-02-12T18:41:36.710Z"
   },
   {
    "duration": 6,
    "start_time": "2022-02-12T18:41:37.518Z"
   },
   {
    "duration": 10,
    "start_time": "2022-02-12T18:41:37.526Z"
   },
   {
    "duration": 8,
    "start_time": "2022-02-12T18:41:37.538Z"
   },
   {
    "duration": 245,
    "start_time": "2022-02-12T18:41:37.548Z"
   },
   {
    "duration": 206,
    "start_time": "2022-02-12T18:41:37.794Z"
   },
   {
    "duration": 213,
    "start_time": "2022-02-12T18:41:38.008Z"
   },
   {
    "duration": 6,
    "start_time": "2022-02-12T18:41:38.223Z"
   },
   {
    "duration": 258,
    "start_time": "2022-02-12T18:41:38.231Z"
   },
   {
    "duration": 245,
    "start_time": "2022-02-12T18:41:38.491Z"
   },
   {
    "duration": 240,
    "start_time": "2022-02-12T18:41:38.738Z"
   },
   {
    "duration": 9,
    "start_time": "2022-02-12T18:41:38.981Z"
   },
   {
    "duration": 8,
    "start_time": "2022-02-12T18:41:39.008Z"
   },
   {
    "duration": 36,
    "start_time": "2022-02-12T18:41:39.018Z"
   },
   {
    "duration": 6,
    "start_time": "2022-02-12T18:41:39.055Z"
   },
   {
    "duration": 12,
    "start_time": "2022-02-12T18:41:39.063Z"
   },
   {
    "duration": 17,
    "start_time": "2022-02-12T18:42:05.261Z"
   },
   {
    "duration": 18,
    "start_time": "2022-02-12T18:42:24.457Z"
   },
   {
    "duration": 47,
    "start_time": "2022-02-12T18:42:55.932Z"
   },
   {
    "duration": 10,
    "start_time": "2022-02-12T18:55:41.949Z"
   },
   {
    "duration": 5,
    "start_time": "2022-02-12T18:58:07.191Z"
   },
   {
    "duration": 5,
    "start_time": "2022-02-12T18:59:57.305Z"
   },
   {
    "duration": 5,
    "start_time": "2022-02-12T19:00:09.560Z"
   },
   {
    "duration": 8,
    "start_time": "2022-02-12T19:00:20.151Z"
   },
   {
    "duration": 821,
    "start_time": "2022-02-12T19:00:23.111Z"
   },
   {
    "duration": 7881,
    "start_time": "2022-02-13T10:54:17.793Z"
   },
   {
    "duration": 1188,
    "start_time": "2022-02-13T10:54:25.677Z"
   },
   {
    "duration": 143,
    "start_time": "2022-02-13T10:54:26.868Z"
   },
   {
    "duration": 17,
    "start_time": "2022-02-13T10:54:27.013Z"
   },
   {
    "duration": 116,
    "start_time": "2022-02-13T10:54:27.032Z"
   },
   {
    "duration": 106,
    "start_time": "2022-02-13T10:54:27.150Z"
   },
   {
    "duration": 16,
    "start_time": "2022-02-13T10:54:27.258Z"
   },
   {
    "duration": 43,
    "start_time": "2022-02-13T10:54:27.277Z"
   },
   {
    "duration": 69,
    "start_time": "2022-02-13T10:54:27.322Z"
   },
   {
    "duration": 23,
    "start_time": "2022-02-13T10:54:27.393Z"
   },
   {
    "duration": 40,
    "start_time": "2022-02-13T10:54:27.418Z"
   },
   {
    "duration": 27,
    "start_time": "2022-02-13T10:54:27.460Z"
   },
   {
    "duration": 62,
    "start_time": "2022-02-13T10:54:27.489Z"
   },
   {
    "duration": 25,
    "start_time": "2022-02-13T10:54:27.553Z"
   },
   {
    "duration": 1771,
    "start_time": "2022-02-13T10:54:27.580Z"
   },
   {
    "duration": 70,
    "start_time": "2022-02-13T10:54:29.353Z"
   },
   {
    "duration": 85,
    "start_time": "2022-02-13T10:54:29.425Z"
   },
   {
    "duration": 25,
    "start_time": "2022-02-13T10:54:29.513Z"
   },
   {
    "duration": 638,
    "start_time": "2022-02-13T10:54:29.540Z"
   },
   {
    "duration": 28,
    "start_time": "2022-02-13T10:54:30.180Z"
   },
   {
    "duration": 12,
    "start_time": "2022-02-13T10:54:30.210Z"
   },
   {
    "duration": 991,
    "start_time": "2022-02-13T10:54:30.224Z"
   },
   {
    "duration": 44,
    "start_time": "2022-02-13T10:54:31.218Z"
   },
   {
    "duration": 68,
    "start_time": "2022-02-13T10:54:31.264Z"
   },
   {
    "duration": 4,
    "start_time": "2022-02-13T10:54:31.334Z"
   },
   {
    "duration": 7,
    "start_time": "2022-02-13T10:54:31.340Z"
   },
   {
    "duration": 807,
    "start_time": "2022-02-13T10:54:31.349Z"
   },
   {
    "duration": 7,
    "start_time": "2022-02-13T10:54:32.157Z"
   },
   {
    "duration": 10,
    "start_time": "2022-02-13T10:54:32.166Z"
   },
   {
    "duration": 27,
    "start_time": "2022-02-13T10:54:32.177Z"
   },
   {
    "duration": 276,
    "start_time": "2022-02-13T10:54:32.206Z"
   },
   {
    "duration": 246,
    "start_time": "2022-02-13T10:54:32.485Z"
   },
   {
    "duration": 277,
    "start_time": "2022-02-13T10:54:32.734Z"
   },
   {
    "duration": 6,
    "start_time": "2022-02-13T10:54:33.013Z"
   },
   {
    "duration": 272,
    "start_time": "2022-02-13T10:54:33.020Z"
   },
   {
    "duration": 259,
    "start_time": "2022-02-13T10:54:33.299Z"
   },
   {
    "duration": 268,
    "start_time": "2022-02-13T10:54:33.560Z"
   },
   {
    "duration": 6,
    "start_time": "2022-02-13T10:54:33.830Z"
   },
   {
    "duration": 18,
    "start_time": "2022-02-13T10:54:33.837Z"
   },
   {
    "duration": 54,
    "start_time": "2022-02-13T10:54:33.857Z"
   },
   {
    "duration": 6,
    "start_time": "2022-02-13T10:54:33.913Z"
   },
   {
    "duration": 28,
    "start_time": "2022-02-13T10:54:33.921Z"
   },
   {
    "duration": 17,
    "start_time": "2022-02-13T10:56:35.657Z"
   }
  ],
  "kernelspec": {
   "display_name": "Python 3 (ipykernel)",
   "language": "python",
   "name": "python3"
  },
  "language_info": {
   "codemirror_mode": {
    "name": "ipython",
    "version": 3
   },
   "file_extension": ".py",
   "mimetype": "text/x-python",
   "name": "python",
   "nbconvert_exporter": "python",
   "pygments_lexer": "ipython3",
   "version": "3.9.7"
  },
  "toc": {
   "base_numbering": 1,
   "nav_menu": {},
   "number_sections": true,
   "sideBar": true,
   "skip_h1_title": true,
   "title_cell": "Table of Contents",
   "title_sidebar": "Contents",
   "toc_cell": false,
   "toc_position": {},
   "toc_section_display": true,
   "toc_window_display": false
  }
 },
 "nbformat": 4,
 "nbformat_minor": 5
}
